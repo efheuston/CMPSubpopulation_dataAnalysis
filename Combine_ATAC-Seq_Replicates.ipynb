{
 "cells": [
  {
   "cell_type": "markdown",
   "metadata": {},
   "source": [
    "# Analysis of mouse single cell hematopoietic populations - Combine ATAC-Seq replicates\n",
    "\n",
    "__Author__: Elisabeth F. Heuston"
   ]
  },
  {
   "cell_type": "markdown",
   "metadata": {},
   "source": [
    "## Purpose"
   ]
  },
  {
   "cell_type": "markdown",
   "metadata": {},
   "source": [
    "Single cell transcriptional and clustering analysis of LSK, CMP, MEP, and GMP data presented in Heuston et al., 2021  \n",
    "\n",
    "This notebook contains the workflow to analyze ATAC-Seq data and pertains to:\n",
    "* Figures 5B, 5C, 5D\n",
    "* Supplemental Figure 7D\n",
    "\n",
    "\n",
    "Combine BED file replicates using the __Save-peak method__ \n",
    "1. Generate BED files using HOMER\n",
    "2. Create mergedBed file for each replicate  \n",
    "3. Using intersectBed, keep peaks from mergedBed that are in both replicates\n",
    "\n",
    "\n",
    "Raw data for this publication are available to download from the GEO Project GSE168260 at https://www.ncbi.nlm.nih.gov/geo/query/acc.cgi?acc=GSE168260  \n",
    "\n",
    "__kentUtils__ documentation is available at https://github.com/ucscGenomeBrowser/kent\n"
   ]
  },
  {
   "cell_type": "markdown",
   "metadata": {},
   "source": [
    "## Workbook setup"
   ]
  },
  {
   "cell_type": "markdown",
   "metadata": {},
   "source": [
    "## Create MergeBed Files"
   ]
  },
  {
   "cell_type": "code",
   "execution_count": 1,
   "metadata": {},
   "outputs": [
    {
     "name": "stdout",
     "output_type": "stream",
     "text": [
      "Sorted C11r2.bed\n",
      "Sorted C11r3.bed\n",
      "Sorted C10r2.bed\n",
      "Sorted C10r3.bed\n",
      "Sorted C3r1.bed\n",
      "Sorted C3r2.bed\n",
      "Sorted C17r1.bed\n",
      "Sorted C17r2.bed\n",
      "Finished generating C11_merge.bed\n",
      "Finished generating C10_merge.bed\n",
      "Finished generating C3_merge.bed\n",
      "Finished generating C17_merge.bed\n"
     ]
    }
   ],
   "source": [
    "cd /Users/heustonef/Desktop/scRNAanalysis_codetest/ATAC/Replicates/\n",
    "\n",
    "bedTag=\".bed\"\n",
    "catTag=\"_cat.bed\"\n",
    "sortTag=\"_sort.bed\"\n",
    "mergeTag=\"_merge.bed\"\n",
    "multiBedTag=\"_multiIntersect.txt\"\n",
    "\n",
    "\n",
    "for bedFile in C11*.bed C10*.bed C3*.bed C17*.bed\n",
    "do\n",
    "\tsortBed -i \"$bedFile\" > \"${bedFile/.bed/_sort.bed}\"\n",
    "\techo \"Sorted $bedFile\"\n",
    "done\n",
    "\n",
    "for replicate in C11 C10 C3 C17\n",
    "do\n",
    "\tcat \"$replicate\"*\"$bedTag\" > \"$replicate$catTag\"\n",
    "\tsortBed -i \"$replicate$catTag\" > \"$replicate$sortTag\"\n",
    "\tmergeBed -i \"$replicate$sortTag\" > \"$replicate$mergeTag\"\n",
    "\techo \"Finished generating \"\"$replicate$mergeTag\"\n",
    "done\n",
    "\n"
   ]
  },
  {
   "cell_type": "code",
   "execution_count": 2,
   "metadata": {},
   "outputs": [],
   "source": [
    "rm *_cat.bed"
   ]
  },
  {
   "cell_type": "code",
   "execution_count": 3,
   "metadata": {},
   "outputs": [
    {
     "name": "stdout",
     "output_type": "stream",
     "text": [
      "C10_merge.bed\tC10r3_sort.bed\tC11r3.bed\tC17r1_sort.bed\tC3r1.bed\n",
      "C10_sort.bed\tC11_merge.bed\tC11r3_sort.bed\tC17r2.bed\tC3r1_sort.bed\n",
      "C10r2.bed\tC11_sort.bed\tC17_merge.bed\tC17r2_sort.bed\tC3r2.bed\n",
      "C10r2_sort.bed\tC11r2.bed\tC17_sort.bed\tC3_merge.bed\tC3r2_sort.bed\n",
      "C10r3.bed\tC11r2_sort.bed\tC17r1.bed\tC3_sort.bed\n"
     ]
    }
   ],
   "source": [
    "ls C11* C10* C3* C17*"
   ]
  },
  {
   "cell_type": "markdown",
   "metadata": {},
   "source": [
    "#### C11 "
   ]
  },
  {
   "cell_type": "code",
   "execution_count": 4,
   "metadata": {},
   "outputs": [
    {
     "name": "stdout",
     "output_type": "stream",
     "text": [
      "C11_merge.bed\tC11r2.bed\tC11r3.bed\n",
      "C11_sort.bed\tC11r2_sort.bed\tC11r3_sort.bed\n"
     ]
    }
   ],
   "source": [
    "ls C11*"
   ]
  },
  {
   "cell_type": "code",
   "execution_count": 5,
   "metadata": {},
   "outputs": [],
   "source": [
    "intersectBed -u -a C11_merge.bed -b C11r2_sort.bed > temp.bed\n",
    "intersectBed -u -a temp.bed -b C11r3_sort.bed > C11.bed"
   ]
  },
  {
   "cell_type": "code",
   "execution_count": 6,
   "metadata": {},
   "outputs": [],
   "source": [
    "cp C11.bed /Users/heustonef/Desktop/scRNAanalysis_codetest/ATAC/"
   ]
  },
  {
   "cell_type": "markdown",
   "metadata": {},
   "source": [
    "#### C3 "
   ]
  },
  {
   "cell_type": "code",
   "execution_count": 7,
   "metadata": {},
   "outputs": [
    {
     "name": "stdout",
     "output_type": "stream",
     "text": [
      "C3_merge.bed\tC3r1.bed\tC3r2.bed\n",
      "C3_sort.bed\tC3r1_sort.bed\tC3r2_sort.bed\n"
     ]
    }
   ],
   "source": [
    "ls C3*"
   ]
  },
  {
   "cell_type": "code",
   "execution_count": 8,
   "metadata": {},
   "outputs": [],
   "source": [
    "intersectBed -u -a C3_merge.bed -b C3r1_sort.bed > C10.bed\n",
    "intersectBed -u -a C10.bed -b C3r2_sort.bed > C3.bed"
   ]
  },
  {
   "cell_type": "code",
   "execution_count": 9,
   "metadata": {},
   "outputs": [],
   "source": [
    "cp C3.bed /Users/heustonef/Desktop/scRNAanalysis_codetest/ATAC/"
   ]
  },
  {
   "cell_type": "markdown",
   "metadata": {},
   "source": [
    "#### C17 <a class='anchor' id='C17'></a>"
   ]
  },
  {
   "cell_type": "code",
   "execution_count": 10,
   "metadata": {},
   "outputs": [
    {
     "name": "stdout",
     "output_type": "stream",
     "text": [
      "C17_merge.bed\tC17r1.bed\tC17r2.bed\n",
      "C17_sort.bed\tC17r1_sort.bed\tC17r2_sort.bed\n"
     ]
    }
   ],
   "source": [
    "ls C17*"
   ]
  },
  {
   "cell_type": "code",
   "execution_count": 11,
   "metadata": {},
   "outputs": [],
   "source": [
    "intersectBed -u -a C17_merge.bed -b C17r1_sort.bed > temp.bed\n",
    "intersectBed -u -a temp.bed -b C17r2_sort.bed > C17.bed"
   ]
  },
  {
   "cell_type": "code",
   "execution_count": 12,
   "metadata": {},
   "outputs": [],
   "source": [
    "cp C17.bed /Users/heustonef/Desktop/scRNAanalysis_codetest/ATAC/"
   ]
  },
  {
   "cell_type": "markdown",
   "metadata": {},
   "source": [
    "#### C10 <a class='anchor' id='C10'></a>"
   ]
  },
  {
   "cell_type": "code",
   "execution_count": 13,
   "metadata": {},
   "outputs": [
    {
     "name": "stdout",
     "output_type": "stream",
     "text": [
      "C10.bed\t\tC10_sort.bed\tC10r2_sort.bed\tC10r3_sort.bed\n",
      "C10_merge.bed\tC10r2.bed\tC10r3.bed\n"
     ]
    }
   ],
   "source": [
    "ls C10*"
   ]
  },
  {
   "cell_type": "code",
   "execution_count": 14,
   "metadata": {},
   "outputs": [],
   "source": [
    "intersectBed -u -a C10_merge.bed -b C10r2_sort.bed > temp.bed\n",
    "intersectBed -u -a temp.bed -b C10r3_sort.bed > C10.bed"
   ]
  },
  {
   "cell_type": "code",
   "execution_count": 15,
   "metadata": {},
   "outputs": [],
   "source": [
    "cp C10.bed /Users/heustonef/Desktop/scRNAanalysis_codetest/ATAC/"
   ]
  },
  {
   "cell_type": "markdown",
   "metadata": {},
   "source": [
    "# Bigwig AverageOverBed <a class='anchor' id='bwaob'></a>"
   ]
  },
  {
   "cell_type": "markdown",
   "metadata": {},
   "source": [
    "Combine all hematopoietic populations we have:<br>\n",
    ">CFUE845<br>\n",
    ">CFUE853<br>\n",
    ">CFUMk847<br>\n",
    ">CFUMk855<br>\n",
    ">CMP842<br>\n",
    ">CMP850<br>\n",
    ">C11r2<br>\n",
    ">C11r3<br>\n",
    ">C3r1<br>\n",
    ">C3r2<br>\n",
    ">ERY846<br>\n",
    ">ERY854<br>\n",
    ">GMP843<br>\n",
    ">GMP851<br>\n",
    ">LSK987<br>\n",
    ">LSK1196<br>\n",
    ">MK848<br>\n",
    ">MK856<br>\n",
    ">C17r1<br>\n",
    ">C17r2<br>\n",
    ">C10r2<br>\n",
    ">C10r3<br>\n",
    "\n",
    "Files needed:<br>\n",
    "* Bed file for _each replicate_ to generate allATAC_merge.bed4\n",
    "* BW file for _each replicate_ for bigWigAverageOverBed script"
   ]
  },
  {
   "cell_type": "code",
   "execution_count": 16,
   "metadata": {},
   "outputs": [],
   "source": [
    "cd /Users/heustonef/Desktop/scRNAanalysis_codetest/ATAC/Replicates"
   ]
  },
  {
   "cell_type": "code",
   "execution_count": 17,
   "metadata": {},
   "outputs": [],
   "source": [
    "cat C*.bed ERY* GMP* LSK* MK* > allATAC_cat-multicol.bed"
   ]
  },
  {
   "cell_type": "code",
   "execution_count": 18,
   "metadata": {},
   "outputs": [],
   "source": [
    "awk -v OFS='\\t' '{print $1,$2,$3}' allATAC_cat-multicol.bed > allATAC_cat.bed"
   ]
  },
  {
   "cell_type": "code",
   "execution_count": 19,
   "metadata": {},
   "outputs": [],
   "source": [
    "sortBed -i allATAC_cat.bed > allATAC_sort.bed"
   ]
  },
  {
   "cell_type": "code",
   "execution_count": 20,
   "metadata": {},
   "outputs": [],
   "source": [
    "mergeBed -i allATAC_sort.bed > allATAC_merge.bed"
   ]
  },
  {
   "cell_type": "code",
   "execution_count": 21,
   "metadata": {},
   "outputs": [],
   "source": [
    "awk -v OFS='\\t' '{print $0, NR}' allATAC_merge.bed > allATAC_merge.bed4 # create peak_ID column"
   ]
  },
  {
   "cell_type": "code",
   "execution_count": 22,
   "metadata": {},
   "outputs": [],
   "source": [
    "mv allATAC_merge.bed4 ../\n",
    "rm allATAC*.bed"
   ]
  },
  {
   "cell_type": "code",
   "execution_count": 23,
   "metadata": {},
   "outputs": [],
   "source": [
    "cd ../"
   ]
  },
  {
   "cell_type": "code",
   "execution_count": 24,
   "metadata": {
    "scrolled": false
   },
   "outputs": [
    {
     "name": "stdout",
     "output_type": "stream",
     "text": [
      "bigWigAverageOverBed C10r2.mm10.bw allATAC_merge.bed4 C10r2.mm10.tab -bedOut=C10r2.mm10.bed\n",
      "processing chromosomes.....................\n",
      "bigWigAverageOverBed C10r3.mm10.bw allATAC_merge.bed4 C10r3.mm10.tab -bedOut=C10r3.mm10.bed\n",
      "processing chromosomes.....................\n",
      "bigWigAverageOverBed C11r2.mm10.bw allATAC_merge.bed4 C11r2.mm10.tab -bedOut=C11r2.mm10.bed\n",
      "processing chromosomes.....................\n",
      "bigWigAverageOverBed C11r3.mm10.bw allATAC_merge.bed4 C11r3.mm10.tab -bedOut=C11r3.mm10.bed\n",
      "processing chromosomes.....................\n",
      "bigWigAverageOverBed C17r1.bw allATAC_merge.bed4 C17r1.tab -bedOut=C17r1.bed\n",
      "processing chromosomes.....................\n",
      "bigWigAverageOverBed C17r2.bw allATAC_merge.bed4 C17r2.tab -bedOut=C17r2.bed\n",
      "processing chromosomes.....................\n",
      "bigWigAverageOverBed C3r1.bw allATAC_merge.bed4 C3r1.tab -bedOut=C3r1.bed\n",
      "processing chromosomes.....................\n",
      "bigWigAverageOverBed C3r2.bw allATAC_merge.bed4 C3r2.tab -bedOut=C3r2.bed\n",
      "processing chromosomes.....................\n",
      "bigWigAverageOverBed CFUE845.mm10.bw allATAC_merge.bed4 CFUE845.mm10.tab -bedOut=CFUE845.mm10.bed\n",
      "processing chromosomes.....................\n",
      "bigWigAverageOverBed CFUE853.mm10.bw allATAC_merge.bed4 CFUE853.mm10.tab -bedOut=CFUE853.mm10.bed\n",
      "processing chromosomes.....................\n",
      "bigWigAverageOverBed CFUMk847.mm10.bw allATAC_merge.bed4 CFUMk847.mm10.tab -bedOut=CFUMk847.mm10.bed\n",
      "processing chromosomes.....................\n",
      "bigWigAverageOverBed CFUMk855.mm10.bw allATAC_merge.bed4 CFUMk855.mm10.tab -bedOut=CFUMk855.mm10.bed\n",
      "processing chromosomes.....................\n",
      "bigWigAverageOverBed CMP842.mm10.bw allATAC_merge.bed4 CMP842.mm10.tab -bedOut=CMP842.mm10.bed\n",
      "processing chromosomes.....................\n",
      "bigWigAverageOverBed CMP850.mm10.bw allATAC_merge.bed4 CMP850.mm10.tab -bedOut=CMP850.mm10.bed\n",
      "processing chromosomes.....................\n",
      "bigWigAverageOverBed ERY846.mm10.bw allATAC_merge.bed4 ERY846.mm10.tab -bedOut=ERY846.mm10.bed\n",
      "processing chromosomes.....................\n",
      "bigWigAverageOverBed ERY854.mm10.bw allATAC_merge.bed4 ERY854.mm10.tab -bedOut=ERY854.mm10.bed\n",
      "processing chromosomes.....................\n",
      "bigWigAverageOverBed GMP843.mm10.bw allATAC_merge.bed4 GMP843.mm10.tab -bedOut=GMP843.mm10.bed\n",
      "processing chromosomes.....................\n",
      "bigWigAverageOverBed GMP851.mm10.bw allATAC_merge.bed4 GMP851.mm10.tab -bedOut=GMP851.mm10.bed\n",
      "processing chromosomes.....................\n",
      "bigWigAverageOverBed LSK1196.mm10.bw allATAC_merge.bed4 LSK1196.mm10.tab -bedOut=LSK1196.mm10.bed\n",
      "processing chromosomes.....................\n",
      "bigWigAverageOverBed LSK987.mm10.bw allATAC_merge.bed4 LSK987.mm10.tab -bedOut=LSK987.mm10.bed\n",
      "processing chromosomes.....................\n",
      "bigWigAverageOverBed MK848.mm10.bw allATAC_merge.bed4 MK848.mm10.tab -bedOut=MK848.mm10.bed\n",
      "processing chromosomes.....................\n",
      "bigWigAverageOverBed MK856.mm10.bw allATAC_merge.bed4 MK856.mm10.tab -bedOut=MK856.mm10.bed\n",
      "processing chromosomes.....................\n"
     ]
    }
   ],
   "source": [
    "for replicate in *.bw\n",
    "do\n",
    "    tabfile=\"${replicate/.bw/.tab}\"\n",
    "    bedfile=\"${replicate/.bw/.bed}\"\n",
    "    echo bigWigAverageOverBed $replicate allATAC_merge.bed4 $tabfile -bedOut=$bedfile\n",
    "    bigWigAverageOverBed $replicate allATAC_merge.bed4 $tabfile -bedOut=$bedfile\n",
    "done"
   ]
  }
 ],
 "metadata": {
  "kernelspec": {
   "display_name": "Bash",
   "language": "bash",
   "name": "bash"
  },
  "language_info": {
   "codemirror_mode": "shell",
   "file_extension": ".sh",
   "mimetype": "text/x-sh",
   "name": "bash"
  },
  "toc": {
   "base_numbering": 1,
   "nav_menu": {},
   "number_sections": false,
   "sideBar": true,
   "skip_h1_title": false,
   "title_cell": "Table of Contents",
   "title_sidebar": "Contents",
   "toc_cell": false,
   "toc_position": {
    "height": "calc(100% - 180px)",
    "left": "10px",
    "top": "150px",
    "width": "315.188px"
   },
   "toc_section_display": true,
   "toc_window_display": true
  },
  "varInspector": {
   "cols": {
    "lenName": 16,
    "lenType": 16,
    "lenVar": 40
   },
   "kernels_config": {
    "python": {
     "delete_cmd_postfix": "",
     "delete_cmd_prefix": "del ",
     "library": "var_list.py",
     "varRefreshCmd": "print(var_dic_list())"
    },
    "r": {
     "delete_cmd_postfix": ") ",
     "delete_cmd_prefix": "rm(",
     "library": "var_list.r",
     "varRefreshCmd": "cat(var_dic_list()) "
    }
   },
   "types_to_exclude": [
    "module",
    "function",
    "builtin_function_or_method",
    "instance",
    "_Feature"
   ],
   "window_display": false
  }
 },
 "nbformat": 4,
 "nbformat_minor": 2
}
