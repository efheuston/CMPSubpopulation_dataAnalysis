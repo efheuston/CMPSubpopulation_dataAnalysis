{
 "cells": [
  {
   "cell_type": "markdown",
   "metadata": {},
   "source": [
    "# Analysis of mouse single cell hematopoietic populations - RNA-Seq anaysis\n",
    "\n",
    "__Author__: Elisabeth F. Heuston"
   ]
  },
  {
   "cell_type": "markdown",
   "metadata": {},
   "source": [
    "## Purpose"
   ]
  },
  {
   "cell_type": "markdown",
   "metadata": {},
   "source": [
    "Single cell transcriptional and clustering analysis of LSK, CMP, MEP, and GMP data presented in Heuston et al., 2021  \n",
    "\n",
    "This notebook contains the python workflow to analyze bulk RNS-Seq data and pertains to:\n",
    "* Figure 5A\n",
    "* Supplemental Figures 7A, 7B, 7C\n",
    "\n",
    "Raw data for this publication are available to download from the GEO Project GSE168260 at https://www.ncbi.nlm.nih.gov/geo/query/acc.cgi?acc=GSE168260  \n",
    "Raw data previously published in Heuston et al., 2018, is available to download from www.usevision.org"
   ]
  },
  {
   "cell_type": "markdown",
   "metadata": {},
   "source": [
    "## Workbook setup"
   ]
  },
  {
   "cell_type": "markdown",
   "metadata": {},
   "source": [
    "## Import libraries"
   ]
  },
  {
   "cell_type": "code",
   "execution_count": 204,
   "metadata": {
    "scrolled": false
   },
   "outputs": [],
   "source": [
    "import numpy as np\n",
    "import matplotlib.pyplot as plt\n",
    "import matplotlib.colors\n",
    "import pandas as pd\n",
    "from pandas import ExcelWriter, ExcelFile\n",
    "import sys, os, re, glob, subprocess, xlsxwriter\n",
    "import plotly.graph_objects as go\n",
    "import plotly.express as px\n",
    "import plotly.io as pio\n",
    "import seaborn as sns"
   ]
  },
  {
   "cell_type": "code",
   "execution_count": 205,
   "metadata": {},
   "outputs": [],
   "source": [
    "os.chdir('/Users/heustonef/Desktop/scRNAanalysis_codetest/')"
   ]
  },
  {
   "cell_type": "markdown",
   "metadata": {},
   "source": [
    "## Functions"
   ]
  },
  {
   "cell_type": "markdown",
   "metadata": {},
   "source": [
    "### Subfuntion: column dictionary"
   ]
  },
  {
   "cell_type": "code",
   "execution_count": 206,
   "metadata": {},
   "outputs": [],
   "source": [
    "def create_column_dictionary(counts_table):\n",
    "    column_dict = {}\n",
    "    for name in counts_table.columns:\n",
    "        m = re.split('(_r\\d+)$', name)\n",
    "        if any(['_r' in element for element in m]):\n",
    "            column_dict.setdefault(m[0], [])\n",
    "            column_dict[m[0]].append(name)\n",
    "    return column_dict\n",
    "    print(\"Created column dictionary\")\n",
    "    "
   ]
  },
  {
   "cell_type": "markdown",
   "metadata": {},
   "source": [
    "### Table of averages"
   ]
  },
  {
   "cell_type": "code",
   "execution_count": 207,
   "metadata": {
    "scrolled": false
   },
   "outputs": [],
   "source": [
    "def create_table_of_averages(counts_table):\n",
    "    column_dict = {}\n",
    "    column_dict = create_column_dictionary(counts_table)\n",
    "    table_of_averages = pd.DataFrame()\n",
    "    for celltype in column_dict.keys():\n",
    "        table_of_averages[celltype + 'avg'] = counts_table[column_dict[celltype]].mean(axis = 1)\n",
    "    return table_of_averages\n",
    "    print(\"Created table of average counts\")\n",
    "    "
   ]
  },
  {
   "cell_type": "markdown",
   "metadata": {},
   "source": [
    "## STAR/RSEM pipeline"
   ]
  },
  {
   "cell_type": "markdown",
   "metadata": {},
   "source": [
    "### STAR command"
   ]
  },
  {
   "cell_type": "raw",
   "metadata": {},
   "source": [
    "%% bash\n",
    "\n",
    "STARINDEX=\n",
    "GENES=\n",
    "\n",
    "# run star code\n",
    "\n",
    "command=\"STAR \\\n",
    "\t--outFilterType BySJout \\\n",
    "\t--outFilterMultimapNmax 20 \\\n",
    "\t--alignSJoverhangMin 8 \\\n",
    "\t--alignSJDBoverhangMin 1 \\\n",
    "\t--outFilterMismatchNmax 999 \\\n",
    "\t--outFilterMismatchNoverLmax 0.04 \\\n",
    "\t--alignIntronMin 20 \\\n",
    "\t--alignIntronMax 1000000 \\\n",
    "\t--alignMatesGapMax 1000000 \\\n",
    "\t--outFileNamePrefix ~/star \\\n",
    "\t--outSAMtype BAM SortedByCoordinate \\\n",
    "\t--quantMode TranscriptomeSAM \\\n",
    "\t--genomeDir $STARINDEX \\\n",
    "\t--runThreadN 8 \\\n",
    "\t--sjdbGTFfile $GENES \\\n",
    "\t--outWigNorm None \\\n",
    "\t--outSAMunmapped Within \\\n",
    "\t--outSAMheaderCommentFile COfile.txt \\\n",
    "\t--outSAMheaderHD @HD VN:1.4 SO:coordinate \\\n",
    "        --outSAMattributes NH HI AS NM MD \\\n",
    "        --sjdbScore 1 $OUTSAM \\\n",
    "\t--limitBAMsortRAM 64000000000 \\\n",
    "    \t--readFilesIn $READ1 $READ2\"\n"
   ]
  },
  {
   "cell_type": "markdown",
   "metadata": {},
   "source": [
    "### RSEM command"
   ]
  },
  {
   "cell_type": "raw",
   "metadata": {},
   "source": [
    "%% bash\n",
    "\n",
    "STRAND=\n",
    "PAIRED=\"--paired-end\"\n",
    "OUTDIR=\"./\"\n",
    "RSEMINDEXES=\n",
    "\n",
    "# run rsem\n",
    "\n",
    "command=\"/storage/work/bmg137/RSEM-1.2.28/rsem-calculate-expression \\\n",
    "\t-p 7 \\\n",
    "\t$PAIRED \\\n",
    "\t--estimate-rspd --no-bam-output --seed 12345 \\\n",
    "        --bam $OUTDIR/starAligned.toTranscriptome.sorted.bam \\\n",
    "\t$RSEMINDEXES \\\n",
    "\t$OUTDIR/rsem/rsem \"\n"
   ]
  },
  {
   "cell_type": "markdown",
   "metadata": {},
   "source": [
    "### Generate TPM summary table"
   ]
  },
  {
   "cell_type": "raw",
   "metadata": {},
   "source": [
    "Combine .genes.results files into \"RNA-Seq_TPM.txt\""
   ]
  },
  {
   "cell_type": "markdown",
   "metadata": {},
   "source": [
    "## Gene set enrichment analysis"
   ]
  },
  {
   "cell_type": "code",
   "execution_count": null,
   "metadata": {},
   "outputs": [],
   "source": []
  },
  {
   "cell_type": "markdown",
   "metadata": {},
   "source": [
    "# REQUIRES CPM FOR DIFF EXPRESSION NOTE"
   ]
  },
  {
   "cell_type": "code",
   "execution_count": null,
   "metadata": {},
   "outputs": [],
   "source": []
  },
  {
   "cell_type": "markdown",
   "metadata": {},
   "source": [
    "### GSEA command"
   ]
  },
  {
   "cell_type": "code",
   "execution_count": 212,
   "metadata": {},
   "outputs": [
    {
     "name": "stdout",
     "output_type": "stream",
     "text": [
      "finished c11vCMP_2FC-rankedGSEA.rnk\n",
      "finished c17vCMP_2FC-rankedGSEA.rnk\n",
      "finished c10vCMP_2FC-rankedGSEA.rnk\n",
      "finished c3svCMP_2FC-rankedGSEA.rnk\n"
     ]
    }
   ],
   "source": [
    "os.chdir('/Users/heustonef/Desktop/scRNAanalysis_codetest/GSEA/')\n",
    "\n",
    "gmt_path = \"LSK_CMP_GMP_EB_MK.gmt\"\n",
    "rnk_list = glob.glob('*_2FC-rankedGSEA.rnk')\n",
    "\n",
    "gsea_cmds = []\n",
    "\n",
    "for rnk_file in rnk_list:\n",
    "    outname = re.match('^(\\w+)(?=-)', rnk_file)[0]\n",
    "    outgmt = os.path.basename(re.split('\\.',gmt)[0])\n",
    "    outfile = '_'.join((outname, outgmt))\n",
    "    gsea_cmd = ''.join(('~/Desktop/GSEA_4.1.0/gsea-cli.sh GSEAPreranked -gmx ', \n",
    "                        gmt_path,\n",
    "                        ' -collapse No_Collapse -mode Max_probe -norm meandiv -nperm 20000 -rnk ', \n",
    "                         rnk_file, \n",
    "                        ' -scoring_scheme weighted -rpt_label ',\n",
    "                        outfile, \n",
    "                        ' -create_svgs false -include_only_symbols true -make_sets true -plot_top_x 20 -rnd_seed timestamp -set_max 500 -set_min 5 -zip_report false -out ./'))\n",
    "    gsea_cmds.append(gsea_cmd)\n",
    "\n",
    "file_position = 0\n",
    "for cmd in gsea_cmds:\n",
    "    os.system(cmd)\n",
    "    print(\"finished\", rnk_list[file_position])\n",
    "    file_position = file_position + 1"
   ]
  },
  {
   "cell_type": "code",
   "execution_count": 216,
   "metadata": {
    "scrolled": false
   },
   "outputs": [],
   "source": [
    "file_list = []\n",
    "for gsea_dir in os.listdir('./'):\n",
    "    if re.match('c\\d.+', gsea_dir) and os.path.isdir(gsea_dir):\n",
    "        for gsea_file in os.listdir(os.path.join(gsea_dir)):\n",
    "            if bool(re.match('gsea.+na_[pos|neg].+.tsv', gsea_file)) == True:\n",
    "                file_list.append(os.path.join(gsea_dir, gsea_file))\n",
    "                \n",
    "goAll_list = []\n",
    "go_writelist = []\n",
    "for file in file_list:\n",
    "    filename =os.path.basename(re.match('(\\w+?)(?=\\.Gsea)', file)[0])\n",
    "\n",
    "    df = pd.DataFrame()\n",
    "    goAll_file = pd.read_csv(file, sep = '\\t')\n",
    "    goAll_file['File'] = filename\n",
    "    df['Pathway'] = goAll_file['NAME']\n",
    "    df['File'] = filename\n",
    "    df['size'] = pd.to_numeric(goAll_file['SIZE'])\n",
    "    df['NES'] = goAll_file['NES']\n",
    "    df['FDR'] = goAll_file['FDR q-val']\n",
    "    goAll_list.append(df)\n",
    "    go_writelist.append(goAll_file)\n",
    "go_alldf = pd.concat(goAll_list, axis = 0, ignore_index = True)\n",
    "go_file = pd.concat(go_writelist, axis = 0, ignore_index = True)\n",
    "\n",
    "sig_goalldf = go_alldf[go_alldf['FDR'] <= 0.25].sort_values('Pathway')\n",
    "sig_goalldf['NES'] = pd.to_numeric(sig_goalldf['NES'])\n",
    "sig_goalldf = sig_goalldf.drop('FDR', axis = 1)\n",
    "sig_goalldf['File'] = sig_goalldf['File'].apply(lambda x:  pd.Series(str(x).split(\"vC\")[0]))\n",
    "sig_goalldf = pd.melt(sig_goalldf, id_vars=['Pathway', 'File'])\n",
    "sig_size = sig_goalldf[sig_goalldf['variable'] == 'size'].copy()\n",
    "sig_size.drop('variable', inplace = True, axis = 1)\n",
    "sig_size = sig_size.rename(columns = {'value': 'size'})\n",
    "sig_nes = sig_goalldf[sig_goalldf['variable'] == 'NES'].copy()\n",
    "sig_nes.drop('variable', inplace = True, axis = 1)\n",
    "sig_nes = sig_nes.rename(columns = {'value': 'NES'})\n",
    "sigDF = pd.merge(left = sig_size, right = sig_nes, left_on=['File', 'Pathway'], right_on = ['File', 'Pathway'])\n",
    "\n",
    "pathwayorder = ['LSK', 'CMP', 'GMP', 'MK', 'ERY']\n",
    "fileorder = ['c3s', 'c10', 'c11', 'c17']\n",
    "spacefiller = pd.DataFrame({'Pathway':['LSK'], 'File': ['c3s'], 'size': [0], 'NES':[0]})\n",
    "sigDF = sigDF.append(spacefiller)\n",
    "sigDF['Pathway'] = pd.Categorical(sigDF['Pathway'], categories=['LSK', 'CMP', 'GMP', 'MK', 'ERY'], ordered=True)\n",
    "sigDF['File'] = pd.Categorical(sigDF['File'], categories=fileorder, ordered=True)\n",
    "\n",
    "sigDF = sigDF.sort_values(['File', 'Pathway'])\n",
    "size_norm = sigDF['size']/sigDF['size'].max()\n",
    "nes_norm = sigDF['NES']/sigDF['NES'].max()\n"
   ]
  },
  {
   "cell_type": "markdown",
   "metadata": {},
   "source": [
    "#### Supplemental Figure 7A"
   ]
  },
  {
   "cell_type": "code",
   "execution_count": 217,
   "metadata": {},
   "outputs": [
    {
     "data": {
      "image/png": "[encoded data removed]",
      "text/plain": [
       "<Figure size 360x576 with 1 Axes>"
      ]
     },
     "metadata": {
      "needs_background": "light"
     },
     "output_type": "display_data"
    }
   ],
   "source": [
    "fig, ax = plt.subplots(figsize = (5,8))\n",
    "scatter = ax.scatter(data = sigDF, x = 'File', y = 'Pathway', c = nes_norm, s = size_norm * 2000, cmap = 'coolwarm')\n",
    "ax.margins(y = .1, x = .1)\n",
    "ax.grid(True)\n",
    "ax.set_axisbelow(True)\n",
    "plt.box(on = None)\n",
    "\n",
    "# produce a legend with the unique colors from the scatter\n",
    "legend1 = ax.legend(*scatter.legend_elements(num = 5), loc=\"lower right\", title=\"NES\", bbox_to_anchor=(1, 1), prop={'size': 20})\n",
    "ax.add_artist(legend1)\n",
    "\n",
    "# produce a legend with a cross section of sizes from the scatter\n",
    "handles, labels = scatter.legend_elements(num =5, prop=\"sizes\", alpha=0.6)\n",
    "legend2 = ax.legend(handles, labels, loc=\"upper right\", title=\"size\", bbox_to_anchor=(1, 1.5), prop={'size': 20})\n",
    "\n",
    "plt.show()\n"
   ]
  },
  {
   "cell_type": "code",
   "execution_count": null,
   "metadata": {},
   "outputs": [],
   "source": []
  },
  {
   "cell_type": "code",
   "execution_count": null,
   "metadata": {},
   "outputs": [],
   "source": []
  },
  {
   "cell_type": "code",
   "execution_count": null,
   "metadata": {},
   "outputs": [],
   "source": []
  },
  {
   "cell_type": "code",
   "execution_count": null,
   "metadata": {},
   "outputs": [],
   "source": []
  },
  {
   "cell_type": "markdown",
   "metadata": {},
   "source": [
    "### Import RNA-Seq TPM summary table"
   ]
  },
  {
   "cell_type": "code",
   "execution_count": 40,
   "metadata": {
    "scrolled": true
   },
   "outputs": [],
   "source": [
    "TPM = pd.read_csv(\"RNA-Seq_TPM.txt\", sep=\"\\t\", index_col=0)\n",
    "TPM = TPM[~TPM.symbol.str.contains('|'.join(('^Gm\\d{1,}a?$', 'Rik', '^[A-Z]{2,}', 'n-')))]\n",
    "\n",
    "TPM_avg = create_table_of_averages(TPM)\n",
    "TPM_avg = TPM_avg.join(TPM['symbol'])\n",
    "TPM_avg.head(2)"
   ]
  },
  {
   "cell_type": "markdown",
   "metadata": {},
   "source": [
    "### Expression comparisons across CMP subpopulations\n",
    "\n",
    "Uniquely expressed:  \n",
    "* C11 (not C10C3C17)\n",
    "* C10 (not C11C3C17)\n",
    "* C17 (not C11C10C3)\n",
    "* C3 (not C11C10C17)\n",
    "\n",
    "Shared (2):  \n",
    "* C11C10 (not C3C17)\n",
    "* C11C3 (not C10C17)\n",
    "* C11C17 (not C10C3)\n",
    "* C10C3 (not C11C17)\n",
    "* C10C17 (not C11C3)\n",
    "* C3C17 (not C11C10)\n",
    "\n",
    "Shared (3):\n",
    "* C10C3C17 (not C11)\n",
    "* C11C3C17 (not C10)\n",
    "* C11C10C17 (not C3)\n",
    "* C11C10C3 (not C17)\n",
    "\n",
    "Shared (4):\n",
    "* C11C10C3C17"
   ]
  },
  {
   "cell_type": "code",
   "execution_count": 80,
   "metadata": {
    "scrolled": false
   },
   "outputs": [],
   "source": [
    "count_threshold = 10\n",
    "TPM10 = {}\n",
    "\n",
    "TPM10['C11'] = TPM_avg[(TPM_avg['C11avg'] >= count_threshold) & (TPM_avg['C10avg'] < count_threshold) & (TPM_avg['C3avg'] < count_threshold) & (TPM_avg['C17avg'] < count_threshold)]\n",
    "TPM10['C10'] = TPM_avg[(TPM_avg['C11avg'] < count_threshold) & (TPM_avg['C10avg'] >= count_threshold) & (TPM_avg['C3avg'] < count_threshold) & (TPM_avg['C17avg'] < count_threshold)]\n",
    "TPM10['C17'] = TPM_avg[(TPM_avg['C11avg'] < count_threshold) & (TPM_avg['C10avg'] < count_threshold) & (TPM_avg['C3avg'] < count_threshold) & (TPM_avg['C17avg'] >= count_threshold)]\n",
    "TPM10['C3'] = TPM_avg[(TPM_avg['C11avg'] < count_threshold) & (TPM_avg['C10avg'] < count_threshold) & (TPM_avg['C3avg'] >= count_threshold) & (TPM_avg['C17avg'] < count_threshold)]\n",
    "\n",
    "TPM10['C11C10'] = TPM_avg[(TPM_avg['C11avg'] >= count_threshold) & (TPM_avg['C10avg'] >= count_threshold) & (TPM_avg['C3avg'] < count_threshold) & (TPM_avg['C17avg'] < count_threshold)]\n",
    "TPM10['C11C3'] = TPM_avg[(TPM_avg['C11avg'] >= count_threshold) & (TPM_avg['C10avg'] < count_threshold) & (TPM_avg['C3avg'] >= count_threshold) & (TPM_avg['C17avg'] < count_threshold)]\n",
    "TPM10['C11C17'] = TPM_avg[(TPM_avg['C11avg'] >= count_threshold) & (TPM_avg['C10avg'] < count_threshold) & (TPM_avg['C3avg'] < count_threshold) & (TPM_avg['C17avg'] >= count_threshold)]\n",
    "TPM10['C10C3'] = TPM_avg[(TPM_avg['C11avg'] < count_threshold) & (TPM_avg['C10avg'] >= count_threshold) & (TPM_avg['C3avg'] >= count_threshold) & (TPM_avg['C17avg'] < count_threshold)]\n",
    "TPM10['C10C17'] = TPM_avg[(TPM_avg['C11avg'] < count_threshold) & (TPM_avg['C10avg'] >= count_threshold) & (TPM_avg['C3avg'] < count_threshold) & (TPM_avg['C17avg'] >= count_threshold)]\n",
    "TPM10['C3C17'] = TPM_avg[(TPM_avg['C11avg'] < count_threshold) & (TPM_avg['C10avg'] < count_threshold) & (TPM_avg['C3avg'] >= count_threshold) & (TPM_avg['C17avg'] >= count_threshold)]\n",
    "\n",
    "TPM10['C10C3C17'] = TPM_avg[(TPM_avg['C11avg'] < count_threshold) & (TPM_avg['C10avg'] >= count_threshold) & (TPM_avg['C3avg'] >= count_threshold) & (TPM_avg['C17avg'] >= count_threshold)]\n",
    "TPM10['C11C3C17'] = TPM_avg[(TPM_avg['C11avg'] >= count_threshold) & (TPM_avg['C10avg'] < count_threshold) & (TPM_avg['C3avg'] >= count_threshold) & (TPM_avg['C17avg'] >= count_threshold)]\n",
    "TPM10['C11C10C17'] = TPM_avg[(TPM_avg['C11avg'] >= count_threshold) & (TPM_avg['C10avg'] >= count_threshold) & (TPM_avg['C3avg'] < count_threshold) & (TPM_avg['C17avg'] >= count_threshold)]\n",
    "TPM10['C11C10C3'] = TPM_avg[(TPM_avg['C11avg'] >= count_threshold) & (TPM_avg['C10avg'] >= count_threshold) & (TPM_avg['C3avg'] >= count_threshold) & (TPM_avg['C17avg'] < count_threshold)]\n",
    "\n",
    "TPM10['C11C10C3C17'] = TPM_avg[(TPM_avg['C11avg'] >= count_threshold) & (TPM_avg['C10avg'] >= count_threshold) & (TPM_avg['C3avg'] >= count_threshold) & (TPM_avg['C17avg'] >= count_threshold)]\n"
   ]
  },
  {
   "cell_type": "markdown",
   "metadata": {},
   "source": [
    "### Compare against CMP"
   ]
  },
  {
   "cell_type": "code",
   "execution_count": 166,
   "metadata": {},
   "outputs": [],
   "source": [
    "TPM10_vsCMP = {}\n",
    "num_subpop = {}\n",
    "pct_CMP = {}\n",
    "\n",
    "for key in TPM10.keys():\n",
    "    fullDF = TPM10[key]\n",
    "    cmpDF = fullDF[fullDF['CMPavg'] >= 10]\n",
    "    \n",
    "    TPM10_vsCMP[key] = cmpDF\n",
    "    num_subpop[key] = fullDF.shape[0]\n",
    "    pct_CMP[key] = round(cmpDF.shape[0]/fullDF.shape[0]*100)"
   ]
  },
  {
   "cell_type": "code",
   "execution_count": null,
   "metadata": {},
   "outputs": [],
   "source": []
  },
  {
   "cell_type": "code",
   "execution_count": null,
   "metadata": {},
   "outputs": [],
   "source": []
  },
  {
   "cell_type": "markdown",
   "metadata": {},
   "source": [
    "#### Supplemental Figure 7B"
   ]
  },
  {
   "cell_type": "code",
   "execution_count": 97,
   "metadata": {},
   "outputs": [],
   "source": [
    "keyorder = np.array([['C10', 'C11C10', 'C11', np.nan],\n",
    "        ['C10C17', 'C11C10C17', 'C11C17', 'C17'],\n",
    "        ['C10C3C17', 'C11C10C3C17', 'C11C3C17', 'C3C17'],\n",
    "        ['C10C3', 'C11C10C3', 'C11C3', 'C3']\n",
    "       ], dtype = 'object')\n"
   ]
  },
  {
   "cell_type": "code",
   "execution_count": 187,
   "metadata": {},
   "outputs": [
    {
     "data": {
      "text/plain": [
       "array([[31, 33, 24, nan],\n",
       "       [28, 36, 22, 14],\n",
       "       [46, 89, 48, 18],\n",
       "       [45, 64, 50, 22]], dtype=object)"
      ]
     },
     "execution_count": 187,
     "metadata": {},
     "output_type": "execute_result"
    }
   ],
   "source": [
    "graph_color = keyorder.copy()\n",
    "graph_value = keyorder.copy()\n",
    "\n",
    "for arr_row in keyorder:\n",
    "    for arr_col in arr_row:\n",
    "        if arr_col in pct_CMP.keys(): # values will be same for pct_CMP and num_subpop\n",
    "            position = np.where(graph_color == arr_col) # position is same for graph_color and graph_value\n",
    "\n",
    "            graph_color[position] = int(pct_CMP[arr_col])\n",
    "            graph_value[position] = num_subpop[arr_col]\n",
    "            \n",
    "\n",
    "graph_color = graph_color.astype('float')"
   ]
  },
  {
   "cell_type": "code",
   "execution_count": 199,
   "metadata": {},
   "outputs": [
    {
     "data": {
      "image/png": "[encoded data removed]",
      "text/plain": [
       "<Figure size 432x288 with 2 Axes>"
      ]
     },
     "metadata": {
      "needs_background": "light"
     },
     "output_type": "display_data"
    }
   ],
   "source": [
    "xaxis = ['C10', 'C11C10', 'C11', 'only']\n",
    "yaxis = ['only', 'C3', 'C3C17', 'C17']\n",
    "\n",
    "fig, ax = plt.subplots()\n",
    "im = ax.imshow(graph_color, cmap='magma_r', vmin= 10, vmax = 100)\n",
    "fig.colorbar(im)\n",
    "\n",
    "# We want to show all ticks...\n",
    "ax.set_xticks(np.arange(len(xaxis)))\n",
    "ax.set_yticks(np.arange(len(yaxis)))\n",
    "# ... and label them with the respective list entries\n",
    "ax.set_xticklabels(xaxis)\n",
    "ax.set_yticklabels(yaxis)\n",
    "\n",
    "# Rotate the tick labels and set their alignment.\n",
    "plt.setp(ax.get_xticklabels(), rotation=45, ha=\"right\",\n",
    "         rotation_mode=\"anchor\")\n",
    "\n",
    "# Loop over data dimensions and create text annotations.\n",
    "for i in range(len(xaxis)):\n",
    "    for j in range(len(yaxis)):\n",
    "        text = ax.text(j, i, graph_value[i, j],\n",
    "                       ha=\"center\", va=\"center\", color=\"w\")\n",
    "\n",
    "ax.set_title(\"Supplemental Figure 7B\")\n",
    "fig.tight_layout()\n",
    "plt.show()"
   ]
  },
  {
   "cell_type": "code",
   "execution_count": null,
   "metadata": {},
   "outputs": [],
   "source": []
  },
  {
   "cell_type": "code",
   "execution_count": null,
   "metadata": {},
   "outputs": [],
   "source": []
  },
  {
   "cell_type": "code",
   "execution_count": null,
   "metadata": {},
   "outputs": [],
   "source": []
  },
  {
   "cell_type": "code",
   "execution_count": null,
   "metadata": {},
   "outputs": [],
   "source": []
  },
  {
   "cell_type": "code",
   "execution_count": null,
   "metadata": {},
   "outputs": [],
   "source": []
  },
  {
   "cell_type": "code",
   "execution_count": null,
   "metadata": {},
   "outputs": [],
   "source": []
  },
  {
   "cell_type": "code",
   "execution_count": null,
   "metadata": {},
   "outputs": [],
   "source": []
  },
  {
   "cell_type": "markdown",
   "metadata": {},
   "source": [
    "### Lineage gene expression profiles"
   ]
  },
  {
   "cell_type": "code",
   "execution_count": 34,
   "metadata": {
    "scrolled": false
   },
   "outputs": [],
   "source": [
    "hm_list = [\"Gata2\", \"Runx1\", \"Pf4\", \"Meis1\", \n",
    "           \"Itga2b\", \"Itgb3\", \"Fli1\", \"Gata1\", \n",
    "           \"Klf1\", \"Zfpm1\", \"Tal1\", 'Hba-a1',\n",
    "           \"Nfe2\", \"Vwf\", 'Elane', 'Flt3', \n",
    "           'Epor', 'Irf8', 'Ly86', 'Cd9', \n",
    "           'Hbb-bt', 'Gfi1']"
   ]
  },
  {
   "cell_type": "code",
   "execution_count": null,
   "metadata": {},
   "outputs": [],
   "source": [
    "tpm_threshold = 10\n",
    "\n",
    "# Filter out rows with all values < TPM threshold (all of)\n",
    "filteredDF = TPM_avg.loc[~(TPM_avg[['CMPavg', 'C10avg', 'C11avg', 'C17avg', 'C3avg']] < 10).all(axis = 1)][['CMPavg', 'C10avg', 'C11avg', 'C17avg', 'C3avg', 'symbol']]\n",
    "\n",
    "# add minimum value to avoid infinities during log conversions\n",
    "correction_value = filteredDF[filteredDF[['CMPavg', 'C10avg', 'C11avg', 'C17avg', 'C3avg']]>0].min()/10**10\n",
    "filteredDF[['CMPavg', 'C10avg', 'C11avg', 'C17avg', 'C3avg']]  += correction_value[['CMPavg', 'C10avg', 'C11avg', 'C17avg', 'C3avg']]\n",
    "\n",
    "# Log2 transform\n",
    "filteredDF[['CMPavg', 'C10avg', 'C11avg', 'C17avg', 'C3avg']] = np.log2(filteredDF[['CMPavg', 'C10avg', 'C11avg', 'C17avg', 'C3avg']])\n",
    "\n",
    "# Clean up\n",
    "filteredDF.index = filteredDF['symbol']\n",
    "\n"
   ]
  },
  {
   "cell_type": "markdown",
   "metadata": {},
   "source": [
    "#### Supplemental Figure 7C"
   ]
  },
  {
   "cell_type": "code",
   "execution_count": 47,
   "metadata": {
    "scrolled": false
   },
   "outputs": [
    {
     "data": {
      "image/png": "[encoded data removed]",
      "text/plain": [
       "<Figure size 360x720 with 4 Axes>"
      ]
     },
     "metadata": {
      "needs_background": "light"
     },
     "output_type": "display_data"
    }
   ],
   "source": [
    "# Plot\n",
    "cm = sns.clustermap(filteredDF.loc[filteredDF.index.isin(hm_list)][['CMPavg', 'C10avg', 'C11avg', 'C17avg', 'C3avg']], \n",
    "                    center = np.log2(10),\n",
    "                    vmin = -6, \n",
    "                    figsize=(5, 10), \n",
    "                    col_cluster = False, \n",
    "                    yticklabels = True,\n",
    "                    dendrogram_ratio = 0.3, \n",
    "                    cmap = sns.color_palette(\"seismic\", n_colors=100), \n",
    "                    cbar_pos = (-.1, .1, 0.05, 0.5), \n",
    "                   )"
   ]
  },
  {
   "cell_type": "code",
   "execution_count": null,
   "metadata": {
    "scrolled": false
   },
   "outputs": [],
   "source": []
  },
  {
   "cell_type": "code",
   "execution_count": null,
   "metadata": {},
   "outputs": [],
   "source": []
  },
  {
   "cell_type": "code",
   "execution_count": null,
   "metadata": {
    "scrolled": false
   },
   "outputs": [],
   "source": []
  }
 ],
 "metadata": {
  "kernelspec": {
   "display_name": "Python 3",
   "language": "python",
   "name": "python3"
  },
  "language_info": {
   "codemirror_mode": {
    "name": "ipython",
    "version": 3
   },
   "file_extension": ".py",
   "mimetype": "text/x-python",
   "name": "python",
   "nbconvert_exporter": "python",
   "pygments_lexer": "ipython3",
   "version": "3.7.6"
  },
  "toc": {
   "base_numbering": 1,
   "nav_menu": {},
   "number_sections": false,
   "sideBar": true,
   "skip_h1_title": false,
   "title_cell": "Table of Contents",
   "title_sidebar": "Contents",
   "toc_cell": false,
   "toc_position": {
    "height": "calc(100% - 180px)",
    "left": "10px",
    "top": "150px",
    "width": "318px"
   },
   "toc_section_display": false,
   "toc_window_display": true
  },
  "varInspector": {
   "cols": {
    "lenName": 16,
    "lenType": 16,
    "lenVar": 40
   },
   "kernels_config": {
    "python": {
     "delete_cmd_postfix": "",
     "delete_cmd_prefix": "del ",
     "library": "var_list.py",
     "varRefreshCmd": "print(var_dic_list())"
    },
    "r": {
     "delete_cmd_postfix": ") ",
     "delete_cmd_prefix": "rm(",
     "library": "var_list.r",
     "varRefreshCmd": "cat(var_dic_list()) "
    }
   },
   "types_to_exclude": [
    "module",
    "function",
    "builtin_function_or_method",
    "instance",
    "_Feature"
   ],
   "window_display": false
  }
 },
 "nbformat": 4,
 "nbformat_minor": 4
}
