{
 "cells": [
  {
   "cell_type": "markdown",
   "metadata": {},
   "source": [
    "# Analysis of mouse single cell hematopoietic populations - Analysis of ATAC-Seq profiles\n",
    "\n",
    "__Author__: Elisabeth F. Heuston"
   ]
  },
  {
   "cell_type": "markdown",
   "metadata": {},
   "source": [
    "## Purpose"
   ]
  },
  {
   "cell_type": "markdown",
   "metadata": {},
   "source": [
    "Single cell transcriptional and clustering analysis of LSK, CMP, MEP, and GMP data presented in Heuston et al., 2021  \n",
    "\n",
    "This notebook contains the workflow to analyze ATAC-Seq data and pertains to:\n",
    "* Figures 5C, 5E\n",
    "* Supplemental Figure 7D  \n",
    "\n",
    "Raw data for this publication are available to download from the GEO Project GSE168260 at https://www.ncbi.nlm.nih.gov/geo/query/acc.cgi?acc=GSE168260  "
   ]
  },
  {
   "cell_type": "markdown",
   "metadata": {},
   "source": [
    "## Workbook setup"
   ]
  },
  {
   "cell_type": "markdown",
   "metadata": {},
   "source": [
    "### Import python3.7 modules"
   ]
  },
  {
   "cell_type": "code",
   "execution_count": 1,
   "metadata": {},
   "outputs": [],
   "source": [
    "import numpy as np\n",
    "import matplotlib.pyplot as plt\n",
    "import matplotlib.colors\n",
    "import matplotlib.colorbar\n",
    "import pandas as pd\n",
    "from pandas import ExcelWriter, ExcelFile\n",
    "from pybedtools import BedTool\n",
    "import os, re, glob, csv, warnings\n",
    "import seaborn as sns\n",
    "from pathlib import Path\n",
    "\n",
    "warnings.filterwarnings(\"ignore\")"
   ]
  },
  {
   "cell_type": "markdown",
   "metadata": {},
   "source": [
    "### Functions"
   ]
  },
  {
   "cell_type": "markdown",
   "metadata": {},
   "source": [
    "#### closestbed_between_lists"
   ]
  },
  {
   "cell_type": "code",
   "execution_count": 2,
   "metadata": {},
   "outputs": [],
   "source": [
    "def closestbed_between_lists(list_a, list_b, outdir = \"./\", verbose = True):\n",
    "    ''' \n",
    "    For each feature in list_a, find the closest feature in list_b.\n",
    "    \n",
    "    closestBed -a list_a[x] -b list_b[y] -D \"ref\" -t \"all\"\n",
    "    \n",
    "    Function automatically removes files in list_b from list_a\n",
    "    '''\n",
    "    \n",
    "\n",
    "    for i in range(0, len(list_a)):\n",
    "        for j in range(0, len(list_b)):\n",
    "            \n",
    "            a_file = BedTool(list_a[i]).sort()\n",
    "            a_file_name = str(list_a[i]).rsplit(\".\", 1)[0]\n",
    "\n",
    "            b_file = BedTool(list_b[j]).sort()\n",
    "            b_file_name =  str(list_b[j]).rsplit(\".\", 1)[0]\n",
    "            \n",
    "            if verbose == True:\n",
    "                print(\"Starting with features in\", list_a[i], \"and finding the closest feature from\", list_b[j])\n",
    "            \n",
    "            # Do closestBed\n",
    "            a_file.closest(b_file, D = \"ref\", t = \"all\").saveas(''.join((outdir, a_file_name, \"_closest_\", b_file_name, \".bed\")))\n",
    "            \n",
    "\n"
   ]
  },
  {
   "cell_type": "markdown",
   "metadata": {},
   "source": [
    "#### gene_filter"
   ]
  },
  {
   "cell_type": "code",
   "execution_count": 3,
   "metadata": {},
   "outputs": [],
   "source": [
    "def gene_filter(df, df_col):\n",
    "    new_df = df[~df[df_col].str.contains('|'.join(('^Gm\\d{1,}a?$', 'Rik', '^[A-Z]{2,}', 'n-')))]\n",
    "    return new_df"
   ]
  },
  {
   "cell_type": "markdown",
   "metadata": {},
   "source": [
    "#### create table of averages"
   ]
  },
  {
   "cell_type": "code",
   "execution_count": 4,
   "metadata": {},
   "outputs": [],
   "source": [
    "def create_column_dictionary(counts_table, ignore_col):\n",
    "    column_dict = {}\n",
    "    for name in counts_table.columns:\n",
    "        if name not in ignore_col:\n",
    "            m = re.split('(_r\\d+)$', name)\n",
    "            if m[0] in column_dict:\n",
    "                pass\n",
    "            else:\n",
    "                column_dict.setdefault(m[0], [])\n",
    "            column_dict[m[0]].append(name)\n",
    "    return column_dict\n",
    "    print(\"Created column dictionary\")\n",
    "    \n",
    "\n",
    "def create_table_of_averages(counts_table, ignore_col):\n",
    "    column_dict = create_column_dictionary(counts_table, ignore_col)\n",
    "    table_of_averages = pd.DataFrame()\n",
    "    for celltype in column_dict.keys():\n",
    "        table_of_averages[celltype + 'avg'] = counts_table[column_dict[celltype]].mean(axis = 1)\n",
    "    table_of_averages = pd.concat([table_of_averages, counts_table[ignore_col]], axis = 1)\n",
    "    \n",
    "    return table_of_averages"
   ]
  },
  {
   "cell_type": "markdown",
   "metadata": {},
   "source": [
    "#### read_bedfiles_to_dict"
   ]
  },
  {
   "cell_type": "code",
   "execution_count": 5,
   "metadata": {},
   "outputs": [],
   "source": [
    "def read_bedfiles_to_dict(bed_list, entry_name_split = '\\.bed', bedfile_columns = None, float_cols = None, int_cols = None):\n",
    "    '''\n",
    "    Given a list of (one or more) bed files, read them into a single dictionary\n",
    "    \n",
    "    bed_list: list of bed files\n",
    "    \n",
    "    entry_name_split: where to re.split the file name (takes the first argument)\n",
    "    \n",
    "    Optional arguments:\n",
    "    \n",
    "    bedfile_columns: list of column names (must match number of columns)\n",
    "    \n",
    "    float_cols: list of columns to define as float64 (defined by column name)\n",
    "    \n",
    "    int_cols: list of columns to define as integers (defined by column name)\n",
    "    '''\n",
    "    \n",
    "    bedlist_dict = {}\n",
    "    split_str = re.compile(entry_name_split)\n",
    "    \n",
    "    for bedfile in bed_list:\n",
    "        entry_name = re.split(split_str, bedfile)[0]\n",
    "        bed_df = BedTool(bedfile).to_dataframe()\n",
    "        bed_df = bed_df.replace('.', np.nan).dropna(axis = 'index', how = 'any')\n",
    "        bedlist_dict[entry_name] = bed_df\n",
    "        \n",
    "        # change column names and data types if not None\n",
    "        if bedfile_columns is not None:\n",
    "            bedlist_dict[entry_name].columns = bedfile_columns\n",
    "        if float_cols is not None:\n",
    "            bedlist_dict[entry_name][float_cols] = bedlist_dict[entry_name][float_cols].astype('float64')\n",
    "        if int_cols is not None:\n",
    "            bedlist_dict[entry_name][int_cols] = bedlist_dict[entry_name][int_cols].astype('int')            \n",
    "    return bedlist_dict"
   ]
  },
  {
   "cell_type": "markdown",
   "metadata": {},
   "source": [
    "#### convert_to_bed6"
   ]
  },
  {
   "cell_type": "code",
   "execution_count": 6,
   "metadata": {},
   "outputs": [],
   "source": [
    "def convert_to_bed6(bedFile_List):\n",
    "    for bedFile in bedFile_List:\n",
    "        bedFile = bedFile.split('/')[-1]\n",
    "        bedDf = BedTool(bedFile).to_dataframe()\n",
    "        bedDf[\"UniqueID\"] = ['peak_'+str(i) for i in range(len(bedDf))]\n",
    "        bedDf['File'] = bedFile.split('.bed')[0]\n",
    "        bedDf['Strand'] = '+'\n",
    "        print(\"Saving\", \"\".join([bedFile, '6']))\n",
    "        BedTool.from_dataframe(bedDf).saveas(\"\".join([bedFile, '6']))"
   ]
  },
  {
   "cell_type": "markdown",
   "metadata": {},
   "source": [
    "#### motif_analysis"
   ]
  },
  {
   "cell_type": "code",
   "execution_count": 7,
   "metadata": {},
   "outputs": [],
   "source": [
    "def motif_analysis(dirlist, homerdir_match = '_HOMER', columnName_split = '_HOMER', numberResults = None, TF_list = None, qval = 0.05, TF_list_only = False):\n",
    "    \n",
    "    homerdir_match = re.compile(homerdir_match)\n",
    "    homer_table = pd.DataFrame()\n",
    "\n",
    "    for homerdir in os.listdir(dirlist):\n",
    "        if os.path.isdir(homerdir) and re.search(homerdir_match, homerdir):\n",
    "            comparison = os.path.basename(homerdir)\n",
    "            print(\"adding comparison\", comparison)\n",
    "\n",
    "            results_table = pd.read_table('/'.join([homerdir, \"knownResults.txt\"]), index_col=[0], usecols=[0,3,4], header = 0,names=[\"Motif Name\", comparison, \"qVal\"])\n",
    "            results_table = results_table[(results_table[\"qVal\"] <= qval)]\n",
    "            results_table = results_table[comparison].multiply(-1)\n",
    "            results_table.index = results_table.index.map(lambda x: x.split(\"(\", 1)[0])\n",
    "            homer_table = homer_table.merge(results_table, left_index=True, right_index = True, how = 'outer', sort = True, copy = False)\n",
    "\n",
    "        homer_table.rename(columns = lambda x: re.split(columnName_split, x)[0], inplace = True)\n",
    "    return homer_table"
   ]
  },
  {
   "cell_type": "markdown",
   "metadata": {},
   "source": [
    "# Merge all CMP subpopulation peaks"
   ]
  },
  {
   "cell_type": "markdown",
   "metadata": {},
   "source": [
    "## Compare all CMP subpopulations together"
   ]
  },
  {
   "cell_type": "markdown",
   "metadata": {},
   "source": [
    "### Setting up comparisons"
   ]
  },
  {
   "cell_type": "markdown",
   "metadata": {},
   "source": [
    "1. Create mergedBed of all CMP subpopulations  \n",
    "2. Get unique sets of peaks for each CMP subpopulation\n",
    "3. Compare against canonical bulk populations\n",
    "\n",
    "There are 15 comparisons to make.\n",
    "\n",
    "Uniquely expressed (1):  \n",
    "* C11 (not C10C3C17)\n",
    "* C10 (not C11C3C17)\n",
    "* C17 (not C11C10C3)\n",
    "* C3 (not C11C10C17)\n",
    "\n",
    "Shared (2):  \n",
    "* C11C10 (not C3C17)\n",
    "* C11C3 (not C10C17)\n",
    "* C11C17 (not C10C3)\n",
    "* C10C3 (not C11C17)\n",
    "* C10C17 (not C11C3)\n",
    "* C3C17 (not C11C10)\n",
    "\n",
    "Shared (3):\n",
    "* C10C3C17 (not C11)\n",
    "* C11C3C17 (not C10)\n",
    "* C11C10C17 (not C3)\n",
    "* C11C10C3 (not C17)\n",
    "\n",
    "Shared (4):\n",
    "* C11C10C3C17"
   ]
  },
  {
   "cell_type": "markdown",
   "metadata": {},
   "source": [
    "### Create CMP subpopulation merged peak file"
   ]
  },
  {
   "cell_type": "markdown",
   "metadata": {},
   "source": [
    "1. Concatenate C10, C11, C17, and C3 bed files  \n",
    "2. Sort bed file  \n",
    "3. Merge peaks in bed file\n",
    "4. Identify peaks from merged dataset unique to each population  "
   ]
  },
  {
   "cell_type": "code",
   "execution_count": 8,
   "metadata": {},
   "outputs": [],
   "source": [
    "%%bash\n",
    "\n",
    "cd ~/Desktop/scRNAanalysis_codetest/ATAC/\n",
    "cat C10.bed C11.bed C17.bed C3.bed > allATAC_cat.bed\n",
    "sortBed -i allATAC_cat.bed > allATAC_sort.bed\n",
    "mergeBed -i allATAC_sort.bed > allATAC.bed\n",
    "\n",
    "rm allATAC_*.bed"
   ]
  },
  {
   "cell_type": "markdown",
   "metadata": {},
   "source": [
    "## All CMP subpopulation comparisons"
   ]
  },
  {
   "cell_type": "code",
   "execution_count": 9,
   "metadata": {},
   "outputs": [],
   "source": [
    "merged_bed = 'allATAC.bed'\n",
    "subpop_list = ['C10', 'C11', 'C17', 'C3']\n",
    "bedfile_list = [''.join((x, '.bed')) for x in subpop_list]"
   ]
  },
  {
   "cell_type": "raw",
   "metadata": {},
   "source": [
    "Perform intersectBed operations to create peaksets listed above"
   ]
  },
  {
   "cell_type": "code",
   "execution_count": 10,
   "metadata": {},
   "outputs": [],
   "source": [
    "subpop_all_overlaps = {}\n",
    "merged_bed = BedTool(merged_bed)\n",
    "\n",
    "for i in range(0, len(bedfile_list)):\n",
    "    if i < len(subpop_list)-3:\n",
    "        j = i + 1\n",
    "        if j < len(subpop_list)-2:\n",
    "            k = j + 1\n",
    "            if k < len(subpop_list)-1:\n",
    "                m = k + 1\n",
    "                while m < len(subpop_list):\n",
    "                    \n",
    "                    first_bedfile = BedTool(bedfile_list[i])\n",
    "                    first_bedfile_name = re.split(\"\\.\", bedfile_list[i])[0]\n",
    "\n",
    "                    second_bedfile = BedTool(bedfile_list[j])\n",
    "                    second_bedfile_name = re.split(\"\\.\", bedfile_list[j])[0]\n",
    "\n",
    "                    third_bedfile = BedTool(bedfile_list[k])\n",
    "                    third_bedfile_name = re.split(\"\\.\", bedfile_list[k])[0]\n",
    "\n",
    "                    fourth_bedfile = BedTool(bedfile_list[m])\n",
    "                    fourth_bedfile_name = re.split(\"\\.\", bedfile_list[m])[0]\n",
    "                    \n",
    "                    # Unique pops\n",
    "                    ((((merged_bed + first_bedfile)-second_bedfile)-third_bedfile)-fourth_bedfile).saveas(''.join((first_bedfile_name,'not', second_bedfile_name, third_bedfile_name, fourth_bedfile_name, '.bed')))\n",
    "                    ((((merged_bed + second_bedfile)-first_bedfile)-third_bedfile)-fourth_bedfile).saveas(''.join((second_bedfile_name,'not', first_bedfile_name , third_bedfile_name, fourth_bedfile_name, '.bed')))\n",
    "                    ((((merged_bed + third_bedfile)-first_bedfile)-second_bedfile)-fourth_bedfile).saveas(''.join((third_bedfile_name,'not', first_bedfile_name, second_bedfile_name, fourth_bedfile_name, '.bed')))\n",
    "                    ((((merged_bed + fourth_bedfile)-first_bedfile)-second_bedfile)-third_bedfile).saveas(''.join((fourth_bedfile_name,'not', first_bedfile_name, second_bedfile_name, third_bedfile_name, '.bed')))\n",
    "                    \n",
    "                    # Shared (2)\n",
    "                    (((merged_bed+first_bedfile+second_bedfile)-third_bedfile)-fourth_bedfile).saveas(''.join((first_bedfile_name, second_bedfile_name, 'not', third_bedfile_name, fourth_bedfile_name, '.bed')))\n",
    "                    (((merged_bed+first_bedfile+third_bedfile)-second_bedfile)-fourth_bedfile).saveas(''.join((first_bedfile_name, third_bedfile_name, 'not', second_bedfile_name, fourth_bedfile_name, '.bed')))\n",
    "                    (((merged_bed+first_bedfile+fourth_bedfile)-second_bedfile)-third_bedfile).saveas(''.join((first_bedfile_name, fourth_bedfile_name, 'not', second_bedfile_name, third_bedfile_name, '.bed')))\n",
    "                    (((merged_bed+second_bedfile+third_bedfile)-first_bedfile)-fourth_bedfile).saveas(''.join((second_bedfile_name, third_bedfile_name, 'not', first_bedfile_name, fourth_bedfile_name, '.bed')))\n",
    "                    (((merged_bed+second_bedfile+fourth_bedfile)-first_bedfile)-third_bedfile).saveas(''.join((second_bedfile_name, fourth_bedfile_name, 'not', first_bedfile_name, third_bedfile_name, '.bed')))\n",
    "                    (((merged_bed+third_bedfile+fourth_bedfile)-first_bedfile)-second_bedfile).saveas(''.join((third_bedfile_name, fourth_bedfile_name, 'not', first_bedfile_name, second_bedfile_name, '.bed')))\n",
    "                    \n",
    "                    # Shared (3)\n",
    "                    ((merged_bed+second_bedfile+third_bedfile+fourth_bedfile)-first_bedfile).saveas(''.join((second_bedfile_name, third_bedfile_name, fourth_bedfile_name, 'not', first_bedfile_name, '.bed')))\n",
    "                    ((merged_bed+first_bedfile+third_bedfile+fourth_bedfile)-second_bedfile).saveas(''.join((first_bedfile_name, third_bedfile_name, fourth_bedfile_name, 'not', second_bedfile_name, '.bed')))\n",
    "                    ((merged_bed+first_bedfile+second_bedfile+fourth_bedfile)-third_bedfile).saveas(''.join((first_bedfile_name, second_bedfile_name, fourth_bedfile_name, 'not', third_bedfile_name, '.bed')))\n",
    "                    ((merged_bed+first_bedfile+second_bedfile+third_bedfile)-fourth_bedfile).saveas(''.join((first_bedfile_name, second_bedfile_name, third_bedfile_name, 'not', fourth_bedfile_name, '.bed')))\n",
    "                    \n",
    "                    # Shared (4)\n",
    "                    (merged_bed+first_bedfile+second_bedfile+third_bedfile+fourth_bedfile).saveas(''.join((first_bedfile_name, second_bedfile_name, third_bedfile_name, fourth_bedfile_name, '.bed')))\n",
    "                    \n",
    "                    m = m + 1\n",
    "                k = k + 1\n",
    "            j = j + 1\n",
    "            \n",
    "\n"
   ]
  },
  {
   "cell_type": "markdown",
   "metadata": {},
   "source": [
    "### Get list of peaks also in CMP"
   ]
  },
  {
   "cell_type": "markdown",
   "metadata": {},
   "source": [
    "Perform intersectBed to identify peaks in each subpop comparison set that are also in CMP"
   ]
  },
  {
   "cell_type": "code",
   "execution_count": 11,
   "metadata": {},
   "outputs": [],
   "source": [
    "comparelist = [x for x in os.listdir('./') if os.path.isfile(x) and re.match('^C.+C.+C.+C.+\\.bed', x)]"
   ]
  },
  {
   "cell_type": "code",
   "execution_count": 12,
   "metadata": {},
   "outputs": [
    {
     "name": "stdout",
     "output_type": "stream",
     "text": [
      "Comparing CMP.bed and C10C11C3notC17.bed\n",
      "Comparing CMP.bed and C10C11C17notC3.bed\n",
      "Comparing CMP.bed and C10C3notC11C17.bed\n",
      "Comparing CMP.bed and C11C17C3notC10.bed\n",
      "Comparing CMP.bed and C10C17C3notC11.bed\n",
      "Comparing CMP.bed and C10C11C17C3.bed\n",
      "Comparing CMP.bed and C10notC11C17C3.bed\n",
      "Comparing CMP.bed and C11C3notC10C17.bed\n",
      "Comparing CMP.bed and C17C3notC10C11.bed\n",
      "Comparing CMP.bed and C11C17notC10C3.bed\n",
      "Comparing CMP.bed and C10C11notC17C3.bed\n",
      "Comparing CMP.bed and C3notC10C11C17.bed\n",
      "Comparing CMP.bed and C17notC10C11C3.bed\n",
      "Comparing CMP.bed and C11notC10C17C3.bed\n",
      "Comparing CMP.bed and C10C17notC11C3.bed\n"
     ]
    }
   ],
   "source": [
    "merged_bed = BedTool('allATAC.bed')\n",
    "first_bedfile = BedTool('CMP.bed')\n",
    "first_bedfile_name = 'CMP'\n",
    "\n",
    "for i in range(0, len(comparelist)):\n",
    "    second_bedfile = BedTool(comparelist[i])\n",
    "    second_bedfile_name = re.split(\"\\.\", comparelist[i])[0]\n",
    "\n",
    "    print(\"Comparing CMP.bed and\", comparelist[i])\n",
    "\n",
    "    # Do intersections\n",
    "    (merged_bed + first_bedfile + second_bedfile).saveas(''.join((first_bedfile_name, \"and\", second_bedfile_name, \".bed\"))) # CMPandX"
   ]
  },
  {
   "cell_type": "markdown",
   "metadata": {},
   "source": [
    "### Count genes in the table"
   ]
  },
  {
   "cell_type": "markdown",
   "metadata": {},
   "source": [
    "Create two new dictionaries for plotting data in Supplemental Figure 7C  \n",
    "> num_genes = number of genes in each comparison  \n",
    "> pct_CMP = percentage of genes in the comparison that are also expressed above the count threshold in CMP\n",
    "\n",
    "Final figure will be a 4x4 grid where each box represents one of the comparisons"
   ]
  },
  {
   "cell_type": "markdown",
   "metadata": {},
   "source": [
    "\"keyorder\" specifies which comparison goes in which box"
   ]
  },
  {
   "cell_type": "code",
   "execution_count": 13,
   "metadata": {},
   "outputs": [],
   "source": [
    "keyorder = np.array([['C10', 'C10C11', 'C11', np.nan],\n",
    "        ['C10C17', 'C10C11C17', 'C11C17', 'C17'],\n",
    "        ['C10C17C3', 'C10C11C17C3', 'C11C17C3', 'C17C3'],\n",
    "        ['C10C3', 'C10C11C3', 'C11C3', 'C3']\n",
    "       ], dtype = 'object')\n"
   ]
  },
  {
   "cell_type": "markdown",
   "metadata": {},
   "source": [
    "Assign values from \"num_genes\" and \"pct_CMP\" to each value in the box"
   ]
  },
  {
   "cell_type": "code",
   "execution_count": 14,
   "metadata": {},
   "outputs": [
    {
     "name": "stdout",
     "output_type": "stream",
     "text": [
      "dict_keys(['C10C11C3', 'C10C11C17', 'C10C3', 'C11C17C3', 'C10C17C3', 'C10C11C17C3', 'C10', 'C11C3', 'C17C3', 'C11C17', 'C10C11', 'C3', 'C17', 'C11', 'C10C17'])\n"
     ]
    }
   ],
   "source": [
    "# file_list = [x for x in os.listdir('./') if os.path.isfile(x) and re.match('C.+C.+\\.bed', x)]\n",
    "\n",
    "comp_dict = {}\n",
    "num_genes = {}\n",
    "\n",
    "num_list = []\n",
    "pct_list = []\n",
    "\n",
    "for bedfile in [x for x in os.listdir('./') if os.path.isfile(x) and re.match('C.+C.+\\.bed', x)]:\n",
    "    if bedfile.startswith('CMP'):\n",
    "        pct_list.append(bedfile)\n",
    "    elif not bedfile.startswith('CMP'):\n",
    "        num_list.append(bedfile)\n",
    "    else:\n",
    "        print(bedfile, 'was not processed into a list')\n",
    "        \n",
    "read_dict = read_bedfiles_to_dict(num_list)\n",
    "dict_keys = read_dict.keys()\n",
    "\n",
    "for key in dict_keys:\n",
    "    new_key = key.split('not')[0]\n",
    "    comp_dict[new_key] = read_dict[key]\n",
    "print(comp_dict.keys())"
   ]
  },
  {
   "cell_type": "code",
   "execution_count": 15,
   "metadata": {},
   "outputs": [],
   "source": [
    "graph_value = keyorder.copy()\n",
    "\n",
    "for beddf in comp_dict.keys():\n",
    "    position = np.where(graph_value == beddf)\n",
    "    graph_value[position] = comp_dict[beddf].shape[0] # shape [0] = number of rows in df\n",
    "\n",
    "\n",
    "graph_color = keyorder.copy()\n",
    "\n",
    "for bedfile in pct_list:\n",
    "    file = open(bedfile, \"r\")\n",
    "    line_count = 0\n",
    "    for line in file:\n",
    "        if line != \"\\n\":\n",
    "            line_count += 1\n",
    "    file.close()\n",
    "        \n",
    "    comparison = re.search('(C\\d+.*?)(?=[not.* | \\.bed])', bedfile)[0]\n",
    "    position = np.where(graph_color == comparison) # position is same for graph_color and graph_value\n",
    "    graph_color[position] = line_count\n",
    "            \n",
    "graph_color = graph_color/graph_value*100 # percentage of subpop-specific peaks which are also in CMP\n",
    "\n",
    "graph_color = graph_color.astype('float') \n",
    "graph_color = np.rint(graph_color)\n",
    "graph_value = graph_value.astype('float') "
   ]
  },
  {
   "cell_type": "markdown",
   "metadata": {},
   "source": [
    "#### Supplemental Figure 7D"
   ]
  },
  {
   "cell_type": "code",
   "execution_count": 16,
   "metadata": {},
   "outputs": [
    {
     "data": {
      "image/png": "[encoded data removed]",
      "text/plain": [
       "<Figure size 720x720 with 2 Axes>"
      ]
     },
     "metadata": {
      "needs_background": "light"
     },
     "output_type": "display_data"
    }
   ],
   "source": [
    "xaxis = ['C10', 'C11C10', 'C11', 'only']\n",
    "yaxis = ['only', 'C3', 'C3C17', 'C17']\n",
    "\n",
    "fig, ax = plt.subplots(figsize = (10, 10))\n",
    "im = ax.imshow(graph_color, cmap='magma_r', vmin= 10, vmax = 100)\n",
    "fig.colorbar(im)\n",
    "\n",
    "# Show all ticks...\n",
    "ax.set_xticks(np.arange(len(xaxis)))\n",
    "ax.set_yticks(np.arange(len(yaxis)))\n",
    "# Label them \n",
    "ax.set_xticklabels(xaxis)\n",
    "ax.set_yticklabels(yaxis)\n",
    "\n",
    "# Rotate the tick labels and set their alignment.\n",
    "plt.setp(ax.get_xticklabels(), rotation=45, ha=\"right\",\n",
    "         rotation_mode=\"anchor\")\n",
    "\n",
    "# Loop over data dimensions and create text annotations.\n",
    "for i in range(len(xaxis)):\n",
    "    for j in range(len(yaxis)):\n",
    "        if not str(graph_value[i, j]) == 'nan':\n",
    "            text = ax.text(j, i, ''.join((keyorder[i,j], '\\n', str(graph_value[i, j]), ' genes', '\\n', str(graph_color[i,j]), ' pct_CMP', '\\n')),\n",
    "                           ha=\"center\", va=\"top\", color=\"grey\", fontweight = 'bold', fontsize = 'large')\n",
    "\n",
    "ax.set_title(\"Supplemental Figure 7B\")\n",
    "fig.tight_layout()\n",
    "plt.show() # Note that in the text, figure is rotated 270 degrees (diamond format)"
   ]
  },
  {
   "cell_type": "markdown",
   "metadata": {},
   "source": [
    "### HOMER"
   ]
  },
  {
   "cell_type": "code",
   "execution_count": 17,
   "metadata": {},
   "outputs": [
    {
     "name": "stdout",
     "output_type": "stream",
     "text": [
      "Saving C10notC11C17C3.bed6\n",
      "Saving C3notC10C11C17.bed6\n",
      "Saving C17notC10C11C3.bed6\n",
      "Saving C11notC10C17C3.bed6\n"
     ]
    }
   ],
   "source": [
    "bedfile_list = [x for x in glob.glob('*.bed') if re.match('C\\d{1,2}not.+', x)]\n",
    "convert_to_bed6(bedfile_list)"
   ]
  },
  {
   "cell_type": "code",
   "execution_count": 18,
   "metadata": {},
   "outputs": [
    {
     "name": "stdout",
     "output_type": "stream",
     "text": [
      "Running Homer findMotifsGenome.pl on C11notC10C17C3.bed6\n",
      "findMotifsGenome.pl C11notC10C17C3.bed6 mm10 C11notC10C17C3_HOMER -nomotif -p 4 \n",
      "\t...done!\n",
      "Running Homer findMotifsGenome.pl on C17notC10C11C3.bed6\n",
      "findMotifsGenome.pl C17notC10C11C3.bed6 mm10 C17notC10C11C3_HOMER -nomotif -p 4 \n",
      "\t...done!\n",
      "Running Homer findMotifsGenome.pl on C10notC11C17C3.bed6\n",
      "findMotifsGenome.pl C10notC11C17C3.bed6 mm10 C10notC11C17C3_HOMER -nomotif -p 4 \n",
      "\t...done!\n",
      "Running Homer findMotifsGenome.pl on C3notC10C11C17.bed6\n",
      "findMotifsGenome.pl C3notC10C11C17.bed6 mm10 C3notC10C11C17_HOMER -nomotif -p 4 \n",
      "\t...done!\n"
     ]
    }
   ],
   "source": [
    "bed6_list = glob.glob('*.bed6')\n",
    "for bedfile in bed6_list:\n",
    "    print('Running Homer findMotifsGenome.pl on', bedfile)\n",
    "    homer_command = 'findMotifsGenome.pl ' + bedfile + ' mm10 ' + bedfile.rsplit('.', 1)[0] + '_HOMER' + ' -nomotif -p 4 '\n",
    "    print(homer_command)\n",
    "    os.system(homer_command)\n",
    "    print('\\t...done!')"
   ]
  },
  {
   "cell_type": "code",
   "execution_count": 19,
   "metadata": {},
   "outputs": [
    {
     "name": "stdout",
     "output_type": "stream",
     "text": [
      "adding comparison C10notC11C17C3_HOMER\n",
      "adding comparison C3notC10C11C17_HOMER\n",
      "adding comparison C11notC10C17C3_HOMER\n",
      "adding comparison C17notC10C11C3_HOMER\n"
     ]
    }
   ],
   "source": [
    "PTFs = [\"Gata2\", \"Pf4\", \"Meis1\", \"Itga2b\", \"Fli1\", \"Gata1\", \"EKLF\", \"Zfpm1\", \"Tal1\", \"NF-E2\", \"PU.1\", \"Elf4\", \"GATA:SCL\", \"SCL\", \"IRF8\"]\n",
    "homer_table = motif_analysis(dirlist = './', columnName_split='not', homerdir_match= '_HOMER', numberResults=20, qval=0.05, TF_list = PTFs, TF_list_only=True)"
   ]
  },
  {
   "cell_type": "markdown",
   "metadata": {},
   "source": [
    "#### Figure 5C"
   ]
  },
  {
   "cell_type": "code",
   "execution_count": 20,
   "metadata": {},
   "outputs": [
    {
     "data": {
      "image/png": "[encoded data removed]",
      "text/plain": [
       "<Figure size 432x720 with 4 Axes>"
      ]
     },
     "metadata": {
      "needs_background": "light"
     },
     "output_type": "display_data"
    }
   ],
   "source": [
    "modcmap = plt.cm.YlGnBu_r\n",
    "modcmapList = [modcmap(i) for i in range(modcmap.N)]\n",
    "modcmapList[0] = (0,0,0,1)\n",
    "modcmap = matplotlib.colors.LinearSegmentedColormap.from_list('mcm', modcmapList, modcmap.N)\n",
    "\n",
    "homer_table = homer_table[['C10', 'C11', 'C17', 'C3']] # Set column order\n",
    "\n",
    "homer_hmPTF = sns.clustermap(np.log(homer_table[homer_table.index.isin(PTFs)]).fillna(0), figsize = (6,10), vmin = 1.3, vmax = 10, cmap = modcmap, col_cluster=False)\n",
    "plt.setp(homer_hmPTF.ax_heatmap.get_yticklabels(), rotation=0)  # For y axis\n",
    "plt.setp(homer_hmPTF.ax_heatmap.get_xticklabels(), rotation=45) # For x axis\n",
    "plt.show()\n",
    "# homer_hmPTF.savefig(''.join([outname, '-PTFs', title_suffix, '.png']), transparent = True, dpi=400)"
   ]
  },
  {
   "cell_type": "markdown",
   "metadata": {},
   "source": [
    "# Correlate ATAC-Seq peaks with ccRE"
   ]
  },
  {
   "cell_type": "markdown",
   "metadata": {},
   "source": [
    "The list of ccRE-gene correlations are available through http://usevision.org.  The entire list can be downloaded at:\n",
    "\n",
    "\n",
    "https://ccre-filter.bx.psu.edu/mouse_allChr_wTAD_weRP_wAllComp_071819.txt"
   ]
  },
  {
   "cell_type": "markdown",
   "metadata": {},
   "source": [
    "## Generate new ccRE table with symbol:ens format with no gene_filter"
   ]
  },
  {
   "cell_type": "markdown",
   "metadata": {},
   "source": [
    "### Read in ccRE table"
   ]
  },
  {
   "cell_type": "code",
   "execution_count": 21,
   "metadata": {},
   "outputs": [],
   "source": [
    "ccre_table = pd.read_csv(\"mouse_allChr_wTAD_weRP_wAllComp_071819.txt\", sep = \"\\t\", na_values='.', usecols = \n",
    "                         ['chr',\n",
    "                         'ccRE_start',\n",
    "                         'ccRE_end',\n",
    "                         'pk',\n",
    "                         'tss',\n",
    "                         'geneID',\n",
    "                         'correlation',\n",
    "                         'SameCompartment']\n",
    "                        )\n",
    "ccre_table[['tss', 'ccRE_start', 'ccRE_end', 'correlation']] = ccre_table[['tss', 'ccRE_start', 'ccRE_end', 'correlation']].apply(pd.to_numeric)\n",
    "ccre_table = ccre_table[ccre_table['SameCompartment'] == 'Yes']\n",
    "ccre_table.drop('SameCompartment', inplace = True, axis = 1)\n",
    "ccre_table = ccre_table[ccre_table[\"correlation\"] > 0].reset_index(drop = True)"
   ]
  },
  {
   "cell_type": "markdown",
   "metadata": {},
   "source": [
    "### Assign each ccRE to single gene"
   ]
  },
  {
   "cell_type": "markdown",
   "metadata": {},
   "source": [
    "#### Define & apply masks for ccRE_df "
   ]
  },
  {
   "cell_type": "code",
   "execution_count": 22,
   "metadata": {},
   "outputs": [],
   "source": [
    "ccre_table = ccre_table.sort_values('correlation', ascending = False)\n",
    "\n",
    "mask1 = ccre_table['correlation'] == ccre_table.groupby('pk', sort = False)['correlation'].transform('max')\n",
    "mask2 = ccre_table.duplicated('pk')\n",
    "\n",
    "ccre_table = ccre_table[~(mask2 & ~mask1)]\n",
    "ccre_table = ccre_table.reset_index(drop = True)\n",
    "\n",
    "del mask1\n",
    "del mask2"
   ]
  },
  {
   "cell_type": "code",
   "execution_count": 23,
   "metadata": {},
   "outputs": [
    {
     "data": {
      "text/html": [
       "<div>\n",
       "<style scoped>\n",
       "    .dataframe tbody tr th:only-of-type {\n",
       "        vertical-align: middle;\n",
       "    }\n",
       "\n",
       "    .dataframe tbody tr th {\n",
       "        vertical-align: top;\n",
       "    }\n",
       "\n",
       "    .dataframe thead th {\n",
       "        text-align: right;\n",
       "    }\n",
       "</style>\n",
       "<table border=\"1\" class=\"dataframe\">\n",
       "  <thead>\n",
       "    <tr style=\"text-align: right;\">\n",
       "      <th></th>\n",
       "      <th>chr</th>\n",
       "      <th>tss</th>\n",
       "      <th>geneID</th>\n",
       "      <th>ccRE_start</th>\n",
       "      <th>ccRE_end</th>\n",
       "      <th>correlation</th>\n",
       "      <th>pk</th>\n",
       "    </tr>\n",
       "  </thead>\n",
       "  <tbody>\n",
       "    <tr>\n",
       "      <th>0</th>\n",
       "      <td>chr12</td>\n",
       "      <td>113654967</td>\n",
       "      <td>Gm17309:ENSMUSG00000090395.1</td>\n",
       "      <td>113355866</td>\n",
       "      <td>113356098</td>\n",
       "      <td>0.999996</td>\n",
       "      <td>chr12_113355866_113356098</td>\n",
       "    </tr>\n",
       "    <tr>\n",
       "      <th>1</th>\n",
       "      <td>chr12</td>\n",
       "      <td>113654967</td>\n",
       "      <td>Gm17309:ENSMUSG00000090395.1</td>\n",
       "      <td>113931850</td>\n",
       "      <td>113932220</td>\n",
       "      <td>0.999996</td>\n",
       "      <td>chr12_113931850_113932220</td>\n",
       "    </tr>\n",
       "  </tbody>\n",
       "</table>\n",
       "</div>"
      ],
      "text/plain": [
       "     chr        tss                        geneID  ccRE_start   ccRE_end  \\\n",
       "0  chr12  113654967  Gm17309:ENSMUSG00000090395.1   113355866  113356098   \n",
       "1  chr12  113654967  Gm17309:ENSMUSG00000090395.1   113931850  113932220   \n",
       "\n",
       "   correlation                         pk  \n",
       "0     0.999996  chr12_113355866_113356098  \n",
       "1     0.999996  chr12_113931850_113932220  "
      ]
     },
     "execution_count": 23,
     "metadata": {},
     "output_type": "execute_result"
    }
   ],
   "source": [
    "ccre_table.head(2)"
   ]
  },
  {
   "cell_type": "markdown",
   "metadata": {},
   "source": [
    "#### Confirm all ccREs are unique and assigned to 1 gene"
   ]
  },
  {
   "cell_type": "code",
   "execution_count": 24,
   "metadata": {
    "scrolled": true
   },
   "outputs": [
    {
     "name": "stdout",
     "output_type": "stream",
     "text": [
      "183645 entries; \n",
      "\t\t28068 unique genes (15% of all genes); 183597 unique ccREs (100% of all ccREs); min_eRP: 0.0\n",
      "\n"
     ]
    }
   ],
   "source": [
    "print(ccre_table.shape[0], ' entries; \\n\\t\\t',\n",
    "      len(ccre_table['geneID'].unique()),\" unique genes \",\n",
    "      \"(\", round(len(ccre_table['geneID'].unique())/len(ccre_table)*100), \"% of all genes); \",\n",
    "      len(ccre_table['pk'].unique()), \" unique ccREs \",\n",
    "      \"(\", round(len(ccre_table['pk'].unique())/len(ccre_table)*100), \"% of all ccREs); \",\n",
    "      \"min_eRP: \", round(min(ccre_table['correlation']), 3),\n",
    "      '\\n',\n",
    "      sep=''\n",
    "     )"
   ]
  },
  {
   "cell_type": "markdown",
   "metadata": {},
   "source": [
    "## Closest bed between ccRE and ATACPeaks - unqCMP subpopulation"
   ]
  },
  {
   "cell_type": "markdown",
   "metadata": {},
   "source": [
    "### Assign closest ccRE"
   ]
  },
  {
   "cell_type": "code",
   "execution_count": 25,
   "metadata": {},
   "outputs": [],
   "source": [
    "bedfile_list = [x for x in os.listdir('./') if x.startswith(('C10not', 'C11not', 'C17not', 'C3not', 'CMP.')) and x.endswith('bed')]\n",
    "reference_list = BedTool.from_dataframe(ccre_table[[\"chr\", \"ccRE_start\", \"ccRE_end\", \"geneID\", \"tss\", \"correlation\"]]).sort()"
   ]
  },
  {
   "cell_type": "code",
   "execution_count": 26,
   "metadata": {},
   "outputs": [
    {
     "name": "stdout",
     "output_type": "stream",
     "text": [
      "Starting with features in C10notC11C17C3.bed and finding the closest feature from ccre\n",
      "Starting with features in C3notC10C11C17.bed and finding the closest feature from ccre\n",
      "Starting with features in C17notC10C11C3.bed and finding the closest feature from ccre\n",
      "Starting with features in C11notC10C17C3.bed and finding the closest feature from ccre\n",
      "Starting with features in CMP.bed and finding the closest feature from ccre\n"
     ]
    }
   ],
   "source": [
    "for i in range(0, len(bedfile_list)):\n",
    "    a_file = BedTool(bedfile_list[i]).sort()\n",
    "    a_file_name = str(bedfile_list[i]).rsplit(\".\", 1)[0]\n",
    "\n",
    "    b_file = reference_list\n",
    "    b_file_name = 'ccre'\n",
    "\n",
    "    print(\"Starting with features in\", bedfile_list[i], \"and finding the closest feature from\", b_file_name)\n",
    "\n",
    "    # Do closestBed\n",
    "    a_file.closest(b_file, D = \"ref\", t = \"all\").saveas(''.join((a_file_name, \"_closest_\", b_file_name, \".bed\")))\n",
    "\n",
    "\n"
   ]
  },
  {
   "cell_type": "markdown",
   "metadata": {},
   "source": [
    "### Read in closestBed dictionary"
   ]
  },
  {
   "cell_type": "code",
   "execution_count": 27,
   "metadata": {},
   "outputs": [],
   "source": [
    "closestbed_list = [x for x in os.listdir('./') if x.endswith('_ccre.bed')]\n",
    "\n",
    "closest_dict = {}\n",
    "    \n",
    "for bedfile in closestbed_list:\n",
    "    entry_name = re.split('\\.', bedfile)[0]\n",
    "    bed_df = BedTool(bedfile).to_dataframe(low_memory = False)\n",
    "    bed_df = bed_df.replace('.', np.nan).dropna(axis = 'index', how = 'any')\n",
    "    closest_dict[entry_name] = bed_df\n",
    "    # change column names and data types\n",
    "    closest_dict[entry_name].columns = [\"ATACpk_chrom\", \"ATACpk_start\", \"ATACpk_stop\", \"ccRE_chrom\", \"ccRE_start\", \"ccRE_end\", \"geneID\", 'tss', 'correlation', \"Distance\"]\n",
    "    float_cols = [\"correlation\"]\n",
    "    int_cols = [\"ATACpk_start\", \"ATACpk_stop\", \"ccRE_start\", \"ccRE_end\", \"tss\", \"Distance\"]\n",
    "    closest_dict[entry_name][float_cols] = closest_dict[entry_name][float_cols].astype('float64')\n",
    "    closest_dict[entry_name][int_cols] = closest_dict[entry_name][int_cols].astype('int')    "
   ]
  },
  {
   "cell_type": "markdown",
   "metadata": {},
   "source": [
    "#### shorten key names"
   ]
  },
  {
   "cell_type": "code",
   "execution_count": 28,
   "metadata": {},
   "outputs": [],
   "source": [
    "key_list = list(closest_dict.keys())\n",
    "\n",
    "for key in key_list:\n",
    "    short_key = re.split('not', key)[0]\n",
    "    closest_dict[short_key] = closest_dict.pop(key)"
   ]
  },
  {
   "cell_type": "markdown",
   "metadata": {},
   "source": [
    "### Set geneID as versionless ensembl"
   ]
  },
  {
   "cell_type": "code",
   "execution_count": 29,
   "metadata": {},
   "outputs": [],
   "source": [
    "for df in closest_dict.keys():\n",
    "    closest_dict[df]['geneID'] = closest_dict[df]['geneID'].apply(lambda x: re.split(':', x)[1]).apply(lambda x: re.split('\\.', x)[0])"
   ]
  },
  {
   "cell_type": "code",
   "execution_count": 30,
   "metadata": {},
   "outputs": [
    {
     "data": {
      "text/html": [
       "<div>\n",
       "<style scoped>\n",
       "    .dataframe tbody tr th:only-of-type {\n",
       "        vertical-align: middle;\n",
       "    }\n",
       "\n",
       "    .dataframe tbody tr th {\n",
       "        vertical-align: top;\n",
       "    }\n",
       "\n",
       "    .dataframe thead th {\n",
       "        text-align: right;\n",
       "    }\n",
       "</style>\n",
       "<table border=\"1\" class=\"dataframe\">\n",
       "  <thead>\n",
       "    <tr style=\"text-align: right;\">\n",
       "      <th></th>\n",
       "      <th>ATACpk_chrom</th>\n",
       "      <th>ATACpk_start</th>\n",
       "      <th>ATACpk_stop</th>\n",
       "      <th>ccRE_chrom</th>\n",
       "      <th>ccRE_start</th>\n",
       "      <th>ccRE_end</th>\n",
       "      <th>geneID</th>\n",
       "      <th>tss</th>\n",
       "      <th>correlation</th>\n",
       "      <th>Distance</th>\n",
       "    </tr>\n",
       "  </thead>\n",
       "  <tbody>\n",
       "    <tr>\n",
       "      <th>0</th>\n",
       "      <td>chr1</td>\n",
       "      <td>3764890</td>\n",
       "      <td>3765040</td>\n",
       "      <td>chr1</td>\n",
       "      <td>3672092</td>\n",
       "      <td>3672710</td>\n",
       "      <td>ENSMUSG00000103161</td>\n",
       "      <td>3595903</td>\n",
       "      <td>0.760235</td>\n",
       "      <td>-92181</td>\n",
       "    </tr>\n",
       "    <tr>\n",
       "      <th>1</th>\n",
       "      <td>chr1</td>\n",
       "      <td>4058920</td>\n",
       "      <td>4059070</td>\n",
       "      <td>chr1</td>\n",
       "      <td>3915099</td>\n",
       "      <td>3915356</td>\n",
       "      <td>ENSMUSG00000064842</td>\n",
       "      <td>3102016</td>\n",
       "      <td>0.999988</td>\n",
       "      <td>-143565</td>\n",
       "    </tr>\n",
       "    <tr>\n",
       "      <th>2</th>\n",
       "      <td>chr1</td>\n",
       "      <td>4202238</td>\n",
       "      <td>4202388</td>\n",
       "      <td>chr1</td>\n",
       "      <td>4412516</td>\n",
       "      <td>4412820</td>\n",
       "      <td>ENSMUSG00000025900</td>\n",
       "      <td>4409241</td>\n",
       "      <td>0.551332</td>\n",
       "      <td>210129</td>\n",
       "    </tr>\n",
       "    <tr>\n",
       "      <th>3</th>\n",
       "      <td>chr1</td>\n",
       "      <td>4352386</td>\n",
       "      <td>4352536</td>\n",
       "      <td>chr1</td>\n",
       "      <td>4412516</td>\n",
       "      <td>4412820</td>\n",
       "      <td>ENSMUSG00000025900</td>\n",
       "      <td>4409241</td>\n",
       "      <td>0.551332</td>\n",
       "      <td>59981</td>\n",
       "    </tr>\n",
       "    <tr>\n",
       "      <th>4</th>\n",
       "      <td>chr1</td>\n",
       "      <td>4414997</td>\n",
       "      <td>4415147</td>\n",
       "      <td>chr1</td>\n",
       "      <td>4414714</td>\n",
       "      <td>4415105</td>\n",
       "      <td>ENSMUSG00000025900</td>\n",
       "      <td>4409241</td>\n",
       "      <td>0.514518</td>\n",
       "      <td>0</td>\n",
       "    </tr>\n",
       "  </tbody>\n",
       "</table>\n",
       "</div>"
      ],
      "text/plain": [
       "  ATACpk_chrom  ATACpk_start  ATACpk_stop ccRE_chrom  ccRE_start  ccRE_end  \\\n",
       "0         chr1       3764890      3765040       chr1     3672092   3672710   \n",
       "1         chr1       4058920      4059070       chr1     3915099   3915356   \n",
       "2         chr1       4202238      4202388       chr1     4412516   4412820   \n",
       "3         chr1       4352386      4352536       chr1     4412516   4412820   \n",
       "4         chr1       4414997      4415147       chr1     4414714   4415105   \n",
       "\n",
       "               geneID      tss  correlation  Distance  \n",
       "0  ENSMUSG00000103161  3595903     0.760235    -92181  \n",
       "1  ENSMUSG00000064842  3102016     0.999988   -143565  \n",
       "2  ENSMUSG00000025900  4409241     0.551332    210129  \n",
       "3  ENSMUSG00000025900  4409241     0.551332     59981  \n",
       "4  ENSMUSG00000025900  4409241     0.514518         0  "
      ]
     },
     "execution_count": 30,
     "metadata": {},
     "output_type": "execute_result"
    }
   ],
   "source": [
    "closest_dict['C10'].head()"
   ]
  },
  {
   "cell_type": "code",
   "execution_count": 31,
   "metadata": {},
   "outputs": [
    {
     "name": "stdout",
     "output_type": "stream",
     "text": [
      "C17\n",
      "initial shape (53977, 10)\n",
      "final shape (17100, 10)\n",
      "C10\n",
      "initial shape (24285, 10)\n",
      "final shape (12588, 10)\n",
      "C11\n",
      "initial shape (4862, 10)\n",
      "final shape (3731, 10)\n",
      "C3\n",
      "initial shape (38493, 10)\n",
      "final shape (14564, 10)\n",
      "CMP_closest_ccre\n",
      "initial shape (198853, 10)\n",
      "final shape (26331, 10)\n"
     ]
    }
   ],
   "source": [
    "for key in closest_dict.keys():\n",
    "    print(key)\n",
    "    print('initial shape', closest_dict[key].shape)\n",
    "    closest_dict[key]['abs_dist'] = abs(closest_dict[key]['Distance'])\n",
    "    closest_dict[key].sort_values(by = ['abs_dist', 'correlation'], inplace = True)\n",
    "    closest_dict[key].drop_duplicates(inplace = True, ignore_index=True, subset = ['geneID'])\n",
    "    closest_dict[key].drop('abs_dist', axis = 1, inplace = True)\n",
    "    print('final shape', closest_dict[key].shape)"
   ]
  },
  {
   "cell_type": "code",
   "execution_count": 32,
   "metadata": {
    "scrolled": true
   },
   "outputs": [
    {
     "name": "stdout",
     "output_type": "stream",
     "text": [
      "17100  number of peaks at distance = 0:  8932\n",
      "12588  number of peaks at distance = 0:  5583\n",
      "3731  number of peaks at distance = 0:  2800\n",
      "14564  number of peaks at distance = 0:  8140\n",
      "26331  number of peaks at distance = 0:  25774\n"
     ]
    }
   ],
   "source": [
    "for key in closest_dict.keys():\n",
    "    print(closest_dict[key].shape[0], ' number of peaks at distance = 0: ', len(closest_dict[key][closest_dict[key]['Distance'] == 0]))"
   ]
  },
  {
   "cell_type": "markdown",
   "metadata": {},
   "source": [
    "# Correlate ATAC and RNA"
   ]
  },
  {
   "cell_type": "markdown",
   "metadata": {},
   "source": [
    "## Define TopN eRPs"
   ]
  },
  {
   "cell_type": "code",
   "execution_count": 33,
   "metadata": {},
   "outputs": [
    {
     "name": "stdout",
     "output_type": "stream",
     "text": [
      "C17_eRP0.5  size before:  17100 ; size now:  8550\n",
      "C17_eRP1  size before:  17100 ; size now:  17100\n",
      "C10_eRP0.5  size before:  12588 ; size now:  6294\n",
      "C10_eRP1  size before:  12588 ; size now:  12588\n",
      "C11_eRP0.5  size before:  3731 ; size now:  1866\n",
      "C11_eRP1  size before:  3731 ; size now:  3731\n",
      "C3_eRP0.5  size before:  14564 ; size now:  7282\n",
      "C3_eRP1  size before:  14564 ; size now:  14564\n",
      "CMP_eRP0.5  size before:  26331 ; size now:  13166\n",
      "CMP_eRP1  size before:  26331 ; size now:  26331\n"
     ]
    }
   ],
   "source": [
    "erp_dict = {}\n",
    "\n",
    "erp_list = [0.5, 1]\n",
    "\n",
    "for topn in erp_list:\n",
    "    erp_dict[''.join(('eRP', str(topn)))] = {}\n",
    "\n",
    "for key in closest_dict.keys():\n",
    "    comparison = re.split('_', key)[0]\n",
    "    for topn in erp_list:\n",
    "        table_title = '_'.join((comparison, ''.join(('eRP', str(topn)))))\n",
    "        n = round(len(closest_dict[key])*topn)\n",
    "        erp_dict[''.join(('eRP', str(topn)))][table_title]  = closest_dict[key].nlargest(n, 'correlation')\n",
    "        print(table_title, ' size before: ', closest_dict[key].shape[0], '; size now: ', erp_dict[''.join(('eRP', str(topn)))][table_title].shape[0])"
   ]
  },
  {
   "cell_type": "markdown",
   "metadata": {},
   "source": [
    "## Load TPM file"
   ]
  },
  {
   "cell_type": "code",
   "execution_count": 34,
   "metadata": {},
   "outputs": [
    {
     "data": {
      "text/html": [
       "<div>\n",
       "<style scoped>\n",
       "    .dataframe tbody tr th:only-of-type {\n",
       "        vertical-align: middle;\n",
       "    }\n",
       "\n",
       "    .dataframe tbody tr th {\n",
       "        vertical-align: top;\n",
       "    }\n",
       "\n",
       "    .dataframe thead th {\n",
       "        text-align: right;\n",
       "    }\n",
       "</style>\n",
       "<table border=\"1\" class=\"dataframe\">\n",
       "  <thead>\n",
       "    <tr style=\"text-align: right;\">\n",
       "      <th></th>\n",
       "      <th>CMPavg</th>\n",
       "      <th>C11avg</th>\n",
       "      <th>C10avg</th>\n",
       "      <th>C3avg</th>\n",
       "      <th>C17avg</th>\n",
       "      <th>symbol</th>\n",
       "    </tr>\n",
       "    <tr>\n",
       "      <th>gene_id</th>\n",
       "      <th></th>\n",
       "      <th></th>\n",
       "      <th></th>\n",
       "      <th></th>\n",
       "      <th></th>\n",
       "      <th></th>\n",
       "    </tr>\n",
       "  </thead>\n",
       "  <tbody>\n",
       "    <tr>\n",
       "      <th>ENSMUSG00000000001</th>\n",
       "      <td>21.265</td>\n",
       "      <td>40.34</td>\n",
       "      <td>72.03</td>\n",
       "      <td>89.415</td>\n",
       "      <td>56.055</td>\n",
       "      <td>Gnai3</td>\n",
       "    </tr>\n",
       "    <tr>\n",
       "      <th>ENSMUSG00000000003</th>\n",
       "      <td>0.000</td>\n",
       "      <td>0.00</td>\n",
       "      <td>0.00</td>\n",
       "      <td>0.000</td>\n",
       "      <td>0.000</td>\n",
       "      <td>Pbsn</td>\n",
       "    </tr>\n",
       "  </tbody>\n",
       "</table>\n",
       "</div>"
      ],
      "text/plain": [
       "                    CMPavg  C11avg  C10avg   C3avg  C17avg symbol\n",
       "gene_id                                                          \n",
       "ENSMUSG00000000001  21.265   40.34   72.03  89.415  56.055  Gnai3\n",
       "ENSMUSG00000000003   0.000    0.00    0.00   0.000   0.000   Pbsn"
      ]
     },
     "execution_count": 34,
     "metadata": {},
     "output_type": "execute_result"
    }
   ],
   "source": [
    "TPM = pd.read_csv(\"~/Desktop/scRNAanalysis_codetest/GSEA/RNA-Seq_TPM.txt\", sep=\"\\t\", index_col=0, \n",
    "                  usecols=['gene_id', 'symbol', 'CMP_r443', 'CMP_r448', 'C10_r1', 'C10_r2', 'C11_r1', 'C11_r2', 'C17_r1', 'C17_r2', 'C3_r1', 'C3_r2'])\n",
    "\n",
    "TPM = gene_filter(TPM, 'symbol')\n",
    "TPM = create_table_of_averages(TPM, ignore_col = ['symbol'])\n",
    "TPM.index = TPM.index.map(lambda x: re.split('\\.', x)[0])\n",
    "TPM.head(2)"
   ]
  },
  {
   "cell_type": "markdown",
   "metadata": {},
   "source": [
    "### Set gene:TPM pairs"
   ]
  },
  {
   "cell_type": "code",
   "execution_count": 35,
   "metadata": {},
   "outputs": [],
   "source": [
    "atac_corr = TPM.copy()\n",
    "\n",
    "for erp in erp_dict.keys():\n",
    "    for popname in erp_dict[erp].keys():\n",
    "        result = re.match('(.*?)(?:not.*)?_(.*)', popname)\n",
    "        subpop = result.group(1) + result.group(2)\n",
    "        subdf = erp_dict[erp][popname].drop_duplicates(subset = 'geneID', keep = 'first')\n",
    "        retdata = subdf.loc[subdf['geneID'].isin(atac_corr.index), ['geneID', 'correlation']]\n",
    "        retdata.set_index('geneID', inplace = True)\n",
    "        atac_corr = pd.merge(left=atac_corr, right = retdata, left_index = True, right_on = retdata.index, how = 'left').set_index('key_0', drop = True)\n",
    "        atac_corr.rename(columns={'correlation':subpop}, inplace = True)\n",
    "atac_corr.index.rename('gene_id', inplace = True)"
   ]
  },
  {
   "cell_type": "markdown",
   "metadata": {},
   "source": [
    "### Trim atac_corr to include only genes that are ccRE targets"
   ]
  },
  {
   "cell_type": "code",
   "execution_count": 36,
   "metadata": {},
   "outputs": [
    {
     "data": {
      "text/plain": [
       "(16484, 16)"
      ]
     },
     "execution_count": 36,
     "metadata": {},
     "output_type": "execute_result"
    }
   ],
   "source": [
    "cols_to_consider = [x for x in atac_corr.columns if 'eRP' in x]\n",
    "atac_corr.dropna(subset = cols_to_consider, how='all', inplace = True)\n",
    "atac_corr.shape"
   ]
  },
  {
   "cell_type": "markdown",
   "metadata": {},
   "source": [
    "### Filter atac_corr with TPM threshold = 1"
   ]
  },
  {
   "cell_type": "code",
   "execution_count": 37,
   "metadata": {},
   "outputs": [],
   "source": [
    "tpm_threshold = 1\n",
    "\n",
    "# Filter out rows with all values < TPM threshold (all of)\n",
    "filteredDF = atac_corr.loc[~(atac_corr[['CMPavg', 'C10avg', 'C11avg', 'C17avg', 'C3avg']] < tpm_threshold).all(axis = 1)].copy()\n",
    "\n",
    "# Filter out rows with all values > TPM theshold (all on)\n",
    "# filteredDF = filteredDF.loc[~(filteredDF[['C10avg', 'C11avg', 'C17avg', 'C3avg']] > tpm_threshold).all(axis = 1)]\n",
    "\n",
    "# add minimum value to avoid infinities during log conversions\n",
    "correction_value = filteredDF[filteredDF[['CMPavg', 'C10avg', 'C11avg', 'C17avg', 'C3avg']]>0].min()/10**10\n",
    "filteredDF[['CMPavg', 'C10avg', 'C11avg', 'C17avg', 'C3avg']]  += correction_value[['CMPavg', 'C10avg', 'C11avg', 'C17avg', 'C3avg']]\n",
    "\n",
    "filteredDF['CMPstate'] = np.nan\n",
    "for index_val in filteredDF.index:\n",
    "    if filteredDF.loc[index_val, 'CMPavg'] >= tpm_threshold:\n",
    "        filteredDF.loc[index_val, 'CMPstate'] = 'on'\n",
    "    else:\n",
    "        filteredDF.loc[index_val, 'CMPstate'] = 'off'\n",
    "\n",
    "\n",
    "# Log2 transform\n",
    "filteredDF[['CMPavg', 'C10avg', 'C11avg', 'C17avg', 'C3avg']] = np.log2(filteredDF[['CMPavg', 'C10avg', 'C11avg', 'C17avg', 'C3avg']])\n",
    "\n",
    "# Clean up\n",
    "filteredDF.index = filteredDF['symbol']\n",
    "filteredDF.drop('symbol', axis = 1, inplace = True)\n",
    "filteredDF.dropna(inplace = True, how = 'all')\n",
    "filteredDF.fillna(0, inplace = True)"
   ]
  },
  {
   "cell_type": "markdown",
   "metadata": {},
   "source": [
    "#### Plot by TPM filtered by eRP bool"
   ]
  },
  {
   "cell_type": "code",
   "execution_count": 38,
   "metadata": {},
   "outputs": [],
   "source": [
    "# Recreate heatmaps with vmin/vmax and colorbars to match GSEA\n",
    "\n",
    "# Customize viridis, so that \"0\" is gray\n",
    "\n",
    "atac_cmap = plt.cm.viridis\n",
    "modcmapList = [atac_cmap(i) for i in range(atac_cmap.N)]\n",
    "modcmapList[0] = (0,0,0,0.3)\n",
    "atac_cmap = matplotlib.colors.LinearSegmentedColormap.from_list('mcm', modcmapList, atac_cmap.N)"
   ]
  },
  {
   "cell_type": "code",
   "execution_count": 39,
   "metadata": {},
   "outputs": [],
   "source": [
    "geneList = [\"Gata2\", \"Runx1\", \"Pf4\", \"Meis1\", \"Itgb3\", \"Fli1\", \"Gata1\", \"Klf1\", \"Zfpm1\", \"Tal1\", \"Nfe2\", \"Vwf\", 'Elane', 'Irf8', 'Ly86', 'Hba-a1', 'Fli1']"
   ]
  },
  {
   "cell_type": "code",
   "execution_count": 40,
   "metadata": {
    "scrolled": false
   },
   "outputs": [],
   "source": [
    "bubbleDF = filteredDF[filteredDF.index.isin(geneList)][['CMPavg', 'C10avg', 'C11avg', 'C17avg', 'C3avg', 'CMPeRP1', 'C10eRP1', 'C11eRP1', 'C17eRP1', 'C3eRP1']].transpose()\n",
    "\n",
    "bubbleDF['type'] = ['TPM', 'TPM', 'TPM', 'TPM', 'TPM', 'eRP', 'eRP', 'eRP', 'eRP', 'eRP']\n",
    "bubbleDF['pop'] = bubbleDF.index.map(lambda x: x[0:3])\n",
    "bubbleDF.reset_index(inplace = True, drop = True)\n",
    "\n",
    "bubbleDF = pd.melt(bubbleDF, id_vars=['pop', 'type'])"
   ]
  },
  {
   "cell_type": "code",
   "execution_count": 41,
   "metadata": {},
   "outputs": [],
   "source": [
    "bubbletpm = bubbleDF[bubbleDF['type'] == 'TPM'].copy()\n",
    "bubbletpm.drop('type', inplace = True, axis = 1)\n",
    "bubbletpm = bubbletpm.rename(columns = {'value': 'TPM'})\n",
    "bubbleerp = bubbleDF[bubbleDF['type'] == 'eRP'].copy()\n",
    "bubbleerp.drop('type', inplace = True, axis = 1)\n",
    "bubbleerp = bubbleerp.rename(columns = {'value': 'eRP'})\n",
    "bubbles = pd.merge(left = bubbletpm, right = bubbleerp, left_on=['pop', 'symbol'], right_on = ['pop', 'symbol'])"
   ]
  },
  {
   "cell_type": "code",
   "execution_count": 42,
   "metadata": {},
   "outputs": [],
   "source": [
    "# Recreate heatmaps with vmin/vmax and colorbars to match GSEA\n",
    "\n",
    "# Customize viridis, so that \"0\" is white\n",
    "\n",
    "atac_cmap = plt.cm.viridis\n",
    "modcmapList = [atac_cmap(i) for i in range(atac_cmap.N)]\n",
    "modcmapList.insert(0, (0,0,0,0))\n",
    "atac_cmap = matplotlib.colors.LinearSegmentedColormap.from_list('mcm', modcmapList, atac_cmap.N)"
   ]
  },
  {
   "cell_type": "markdown",
   "metadata": {},
   "source": [
    "This graph is made by assigning each atac peak to the nearest ccRE, sort genes by distance to peak and keep only the smallest distance, then making cut-offs based on eRP scores"
   ]
  },
  {
   "cell_type": "markdown",
   "metadata": {},
   "source": [
    "#### Figure 5E"
   ]
  },
  {
   "cell_type": "code",
   "execution_count": 43,
   "metadata": {},
   "outputs": [
    {
     "data": {
      "image/png": "[encoded data removed]",
      "text/plain": [
       "<Figure size 360x864 with 1 Axes>"
      ]
     },
     "metadata": {
      "needs_background": "light"
     },
     "output_type": "display_data"
    }
   ],
   "source": [
    "tpm_norm = bubbles['TPM']/bubbles['TPM'].max()\n",
    "erp_norm = bubbles['eRP']/bubbles['eRP'].max()\n",
    "\n",
    "fig, ax = plt.subplots(figsize = (5,12))\n",
    "scatter = ax.scatter(data = bubbles, x = 'pop', y = 'symbol', c = erp_norm*20, s = tpm_norm * 1000, cmap = atac_cmap, vmin = 4.9, vmax = 20)\n",
    "ax.grid(True)\n",
    "ax.set_axisbelow(True)\n",
    "plt.box(on = None)\n",
    "\n",
    "# produce a legend with the unique colors from the scatter\n",
    "legend1 = ax.legend(*scatter.legend_elements(num = 5), loc=\"lower right\", title=\"eRP score\", bbox_to_anchor=(1, 1), prop={'size': 20})\n",
    "ax.add_artist(legend1)\n",
    "\n",
    "# produce a legend with a cross section of sizes from the scatter\n",
    "handles, labels = scatter.legend_elements(num =5, prop=\"sizes\", alpha=0.6)\n",
    "legend2 = ax.legend(handles, labels, loc=\"upper right\", title=\"Log2TPM\", bbox_to_anchor=(1, 1.5), prop={'size': 20})\n",
    "\n",
    "plt.show()\n"
   ]
  }
 ],
 "metadata": {
  "kernelspec": {
   "display_name": "Python 3",
   "language": "python",
   "name": "python3"
  },
  "language_info": {
   "codemirror_mode": {
    "name": "ipython",
    "version": 3
   },
   "file_extension": ".py",
   "mimetype": "text/x-python",
   "name": "python",
   "nbconvert_exporter": "python",
   "pygments_lexer": "ipython3",
   "version": "3.7.6"
  },
  "toc": {
   "base_numbering": 1,
   "nav_menu": {},
   "number_sections": false,
   "sideBar": true,
   "skip_h1_title": false,
   "title_cell": "Table of Contents",
   "title_sidebar": "Contents",
   "toc_cell": false,
   "toc_position": {
    "height": "calc(100% - 180px)",
    "left": "10px",
    "top": "150px",
    "width": "361px"
   },
   "toc_section_display": false,
   "toc_window_display": true
  },
  "varInspector": {
   "cols": {
    "lenName": 16,
    "lenType": 16,
    "lenVar": 40
   },
   "kernels_config": {
    "python": {
     "delete_cmd_postfix": "",
     "delete_cmd_prefix": "del ",
     "library": "var_list.py",
     "varRefreshCmd": "print(var_dic_list())"
    },
    "r": {
     "delete_cmd_postfix": ") ",
     "delete_cmd_prefix": "rm(",
     "library": "var_list.r",
     "varRefreshCmd": "cat(var_dic_list()) "
    }
   },
   "oldHeight": 934,
   "position": {
    "height": "956px",
    "left": "1886px",
    "right": "20px",
    "top": "116px",
    "width": "718px"
   },
   "types_to_exclude": [
    "module",
    "function",
    "builtin_function_or_method",
    "instance",
    "_Feature"
   ],
   "varInspector_section_display": "block",
   "window_display": false
  }
 },
 "nbformat": 4,
 "nbformat_minor": 4
}
